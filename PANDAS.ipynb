{
 "cells": [
  {
   "cell_type": "markdown",
   "metadata": {},
   "source": [
    "# Author :  Awais Manzoor\n",
    "# Data Analyst "
   ]
  },
  {
   "cell_type": "markdown",
   "metadata": {},
   "source": [
    "# PANDAS IN PYTHON"
   ]
  },
  {
   "cell_type": "markdown",
   "metadata": {},
   "source": [
    "\n",
    "#Pandas is a fast, powerful, flexible and easy to use open source data analysis and manipulation tool, built on top of the Python programming language."
   ]
  },
  {
   "cell_type": "markdown",
   "metadata": {},
   "source": [
    "# Pandas Series"
   ]
  },
  {
   "cell_type": "markdown",
   "metadata": {},
   "source": [
    "#is like a column in a table. It is a 1-D array holding data of any type."
   ]
  },
  {
   "cell_type": "markdown",
   "metadata": {},
   "source": [
    "# Importing Pandas"
   ]
  },
  {
   "cell_type": "code",
   "execution_count": 1,
   "metadata": {},
   "outputs": [],
   "source": [
    "import numpy as np\n",
    "import pandas as pd"
   ]
  },
  {
   "cell_type": "markdown",
   "metadata": {},
   "source": [
    "# Series from lists"
   ]
  },
  {
   "cell_type": "code",
   "execution_count": 2,
   "metadata": {},
   "outputs": [
    {
     "data": {
      "text/plain": [
       "0       India\n",
       "1    Pakistan\n",
       "2         USA\n",
       "3       Nepal\n",
       "4    Srilanka\n",
       "dtype: object"
      ]
     },
     "execution_count": 2,
     "metadata": {},
     "output_type": "execute_result"
    }
   ],
   "source": [
    "# string\n",
    "country = ['India','Pakistan','USA','Nepal','Srilanka']\n",
    "\n",
    "pd.Series(country)"
   ]
  },
  {
   "cell_type": "code",
   "execution_count": 4,
   "metadata": {},
   "outputs": [
    {
     "data": {
      "text/plain": [
       "maths       67\n",
       "english     57\n",
       "science     89\n",
       "urdu       100\n",
       "dtype: int64"
      ]
     },
     "execution_count": 4,
     "metadata": {},
     "output_type": "execute_result"
    }
   ],
   "source": [
    "# custom index\n",
    "marks = [67,57,89,100]\n",
    "subjects = ['maths','english','science','urdu']\n",
    "\n",
    "pd.Series(marks,index=subjects)"
   ]
  },
  {
   "cell_type": "code",
   "execution_count": 5,
   "metadata": {},
   "outputs": [
    {
     "data": {
      "text/plain": [
       "maths       67\n",
       "english     57\n",
       "science     89\n",
       "urdu       100\n",
       "Name: Awais marks, dtype: int64"
      ]
     },
     "execution_count": 5,
     "metadata": {},
     "output_type": "execute_result"
    }
   ],
   "source": [
    "# setting a name\n",
    "marks = pd.Series(marks,index=subjects,name='Awais marks')\n",
    "marks"
   ]
  },
  {
   "cell_type": "markdown",
   "metadata": {},
   "source": [
    "# Series from dict"
   ]
  },
  {
   "cell_type": "code",
   "execution_count": 6,
   "metadata": {},
   "outputs": [
    {
     "data": {
      "text/plain": [
       "maths       67\n",
       "english     57\n",
       "science     89\n",
       "hindi      100\n",
       "Name: Awais marks, dtype: int64"
      ]
     },
     "execution_count": 6,
     "metadata": {},
     "output_type": "execute_result"
    }
   ],
   "source": [
    "marks = {\n",
    "    'maths':67,\n",
    "    'english':57,\n",
    "    'science':89,\n",
    "    'hindi':100\n",
    "}\n",
    "\n",
    "marks_series = pd.Series(marks,name='Awais marks')\n",
    "marks_series"
   ]
  },
  {
   "cell_type": "markdown",
   "metadata": {},
   "source": [
    "# Series Attributes"
   ]
  },
  {
   "cell_type": "code",
   "execution_count": 7,
   "metadata": {},
   "outputs": [
    {
     "data": {
      "text/plain": [
       "4"
      ]
     },
     "execution_count": 7,
     "metadata": {},
     "output_type": "execute_result"
    }
   ],
   "source": [
    "# size\n",
    "marks_series.size"
   ]
  },
  {
   "cell_type": "code",
   "execution_count": 8,
   "metadata": {},
   "outputs": [
    {
     "data": {
      "text/plain": [
       "'Awais marks'"
      ]
     },
     "execution_count": 8,
     "metadata": {},
     "output_type": "execute_result"
    }
   ],
   "source": [
    "# name\n",
    "marks_series.name"
   ]
  },
  {
   "cell_type": "code",
   "execution_count": 9,
   "metadata": {},
   "outputs": [
    {
     "data": {
      "text/plain": [
       "dtype('int64')"
      ]
     },
     "execution_count": 9,
     "metadata": {},
     "output_type": "execute_result"
    }
   ],
   "source": [
    "# dtype\n",
    "marks_series.dtype"
   ]
  },
  {
   "cell_type": "code",
   "execution_count": 10,
   "metadata": {},
   "outputs": [
    {
     "data": {
      "text/plain": [
       "False"
      ]
     },
     "execution_count": 10,
     "metadata": {},
     "output_type": "execute_result"
    }
   ],
   "source": [
    "# is_unique\n",
    "marks_series.is_unique\n",
    "\n",
    "pd.Series([1,1,2,3,4,5]).is_unique"
   ]
  },
  {
   "cell_type": "code",
   "execution_count": 11,
   "metadata": {},
   "outputs": [
    {
     "data": {
      "text/plain": [
       "Index(['maths', 'english', 'science', 'hindi'], dtype='object')"
      ]
     },
     "execution_count": 11,
     "metadata": {},
     "output_type": "execute_result"
    }
   ],
   "source": [
    "# index\n",
    "marks_series.index"
   ]
  },
  {
   "cell_type": "code",
   "execution_count": 14,
   "metadata": {},
   "outputs": [
    {
     "data": {
      "text/plain": [
       "Index(['maths', 'english', 'science', 'hindi'], dtype='object')"
      ]
     },
     "execution_count": 14,
     "metadata": {},
     "output_type": "execute_result"
    }
   ],
   "source": [
    "marks_series.index"
   ]
  },
  {
   "cell_type": "code",
   "execution_count": 15,
   "metadata": {},
   "outputs": [
    {
     "data": {
      "text/plain": [
       "array([ 67,  57,  89, 100])"
      ]
     },
     "execution_count": 15,
     "metadata": {},
     "output_type": "execute_result"
    }
   ],
   "source": [
    "# values\n",
    "marks_series.values"
   ]
  },
  {
   "cell_type": "markdown",
   "metadata": {},
   "source": [
    "# Series using read_csv"
   ]
  },
  {
   "cell_type": "code",
   "execution_count": 20,
   "metadata": {},
   "outputs": [
    {
     "data": {
      "text/html": [
       "<div>\n",
       "<style scoped>\n",
       "    .dataframe tbody tr th:only-of-type {\n",
       "        vertical-align: middle;\n",
       "    }\n",
       "\n",
       "    .dataframe tbody tr th {\n",
       "        vertical-align: top;\n",
       "    }\n",
       "\n",
       "    .dataframe thead th {\n",
       "        text-align: right;\n",
       "    }\n",
       "</style>\n",
       "<table border=\"1\" class=\"dataframe\">\n",
       "  <thead>\n",
       "    <tr style=\"text-align: right;\">\n",
       "      <th></th>\n",
       "      <th>Subscribers gained</th>\n",
       "    </tr>\n",
       "  </thead>\n",
       "  <tbody>\n",
       "    <tr>\n",
       "      <th>0</th>\n",
       "      <td>48</td>\n",
       "    </tr>\n",
       "    <tr>\n",
       "      <th>1</th>\n",
       "      <td>57</td>\n",
       "    </tr>\n",
       "    <tr>\n",
       "      <th>2</th>\n",
       "      <td>40</td>\n",
       "    </tr>\n",
       "    <tr>\n",
       "      <th>3</th>\n",
       "      <td>43</td>\n",
       "    </tr>\n",
       "    <tr>\n",
       "      <th>4</th>\n",
       "      <td>44</td>\n",
       "    </tr>\n",
       "    <tr>\n",
       "      <th>...</th>\n",
       "      <td>...</td>\n",
       "    </tr>\n",
       "    <tr>\n",
       "      <th>360</th>\n",
       "      <td>231</td>\n",
       "    </tr>\n",
       "    <tr>\n",
       "      <th>361</th>\n",
       "      <td>226</td>\n",
       "    </tr>\n",
       "    <tr>\n",
       "      <th>362</th>\n",
       "      <td>155</td>\n",
       "    </tr>\n",
       "    <tr>\n",
       "      <th>363</th>\n",
       "      <td>144</td>\n",
       "    </tr>\n",
       "    <tr>\n",
       "      <th>364</th>\n",
       "      <td>172</td>\n",
       "    </tr>\n",
       "  </tbody>\n",
       "</table>\n",
       "<p>365 rows × 1 columns</p>\n",
       "</div>"
      ],
      "text/plain": [
       "     Subscribers gained\n",
       "0                    48\n",
       "1                    57\n",
       "2                    40\n",
       "3                    43\n",
       "4                    44\n",
       "..                  ...\n",
       "360                 231\n",
       "361                 226\n",
       "362                 155\n",
       "363                 144\n",
       "364                 172\n",
       "\n",
       "[365 rows x 1 columns]"
      ]
     },
     "execution_count": 20,
     "metadata": {},
     "output_type": "execute_result"
    }
   ],
   "source": [
    "# with one col\n",
    "subs = pd.read_csv(r'C:\\Users\\hp\\Downloads\\subs.csv')\n",
    "subs"
   ]
  },
  {
   "cell_type": "code",
   "execution_count": 22,
   "metadata": {},
   "outputs": [
    {
     "data": {
      "text/plain": [
       "0       48\n",
       "1       57\n",
       "2       40\n",
       "3       43\n",
       "4       44\n",
       "      ... \n",
       "360    231\n",
       "361    226\n",
       "362    155\n",
       "363    144\n",
       "364    172\n",
       "Name: Subscribers gained, Length: 365, dtype: int64"
      ]
     },
     "execution_count": 22,
     "metadata": {},
     "output_type": "execute_result"
    }
   ],
   "source": [
    "subs = pd.read_csv(r'C:\\Users\\hp\\Downloads\\subs.csv').squeeze()\n",
    "subs"
   ]
  },
  {
   "cell_type": "code",
   "execution_count": 24,
   "metadata": {},
   "outputs": [
    {
     "data": {
      "text/plain": [
       "pandas.core.series.Series"
      ]
     },
     "execution_count": 24,
     "metadata": {},
     "output_type": "execute_result"
    }
   ],
   "source": [
    "type(pd.read_csv(r'C:\\Users\\hp\\Downloads\\subs.csv').squeeze())"
   ]
  },
  {
   "cell_type": "code",
   "execution_count": 32,
   "metadata": {},
   "outputs": [
    {
     "data": {
      "text/html": [
       "<div>\n",
       "<style scoped>\n",
       "    .dataframe tbody tr th:only-of-type {\n",
       "        vertical-align: middle;\n",
       "    }\n",
       "\n",
       "    .dataframe tbody tr th {\n",
       "        vertical-align: top;\n",
       "    }\n",
       "\n",
       "    .dataframe thead th {\n",
       "        text-align: right;\n",
       "    }\n",
       "</style>\n",
       "<table border=\"1\" class=\"dataframe\">\n",
       "  <thead>\n",
       "    <tr style=\"text-align: right;\">\n",
       "      <th></th>\n",
       "      <th>runs</th>\n",
       "    </tr>\n",
       "    <tr>\n",
       "      <th>match_no</th>\n",
       "      <th></th>\n",
       "    </tr>\n",
       "  </thead>\n",
       "  <tbody>\n",
       "    <tr>\n",
       "      <th>1</th>\n",
       "      <td>1</td>\n",
       "    </tr>\n",
       "    <tr>\n",
       "      <th>2</th>\n",
       "      <td>23</td>\n",
       "    </tr>\n",
       "    <tr>\n",
       "      <th>3</th>\n",
       "      <td>13</td>\n",
       "    </tr>\n",
       "    <tr>\n",
       "      <th>4</th>\n",
       "      <td>12</td>\n",
       "    </tr>\n",
       "    <tr>\n",
       "      <th>5</th>\n",
       "      <td>1</td>\n",
       "    </tr>\n",
       "    <tr>\n",
       "      <th>...</th>\n",
       "      <td>...</td>\n",
       "    </tr>\n",
       "    <tr>\n",
       "      <th>211</th>\n",
       "      <td>0</td>\n",
       "    </tr>\n",
       "    <tr>\n",
       "      <th>212</th>\n",
       "      <td>20</td>\n",
       "    </tr>\n",
       "    <tr>\n",
       "      <th>213</th>\n",
       "      <td>73</td>\n",
       "    </tr>\n",
       "    <tr>\n",
       "      <th>214</th>\n",
       "      <td>25</td>\n",
       "    </tr>\n",
       "    <tr>\n",
       "      <th>215</th>\n",
       "      <td>7</td>\n",
       "    </tr>\n",
       "  </tbody>\n",
       "</table>\n",
       "<p>215 rows × 1 columns</p>\n",
       "</div>"
      ],
      "text/plain": [
       "          runs\n",
       "match_no      \n",
       "1            1\n",
       "2           23\n",
       "3           13\n",
       "4           12\n",
       "5            1\n",
       "...        ...\n",
       "211          0\n",
       "212         20\n",
       "213         73\n",
       "214         25\n",
       "215          7\n",
       "\n",
       "[215 rows x 1 columns]"
      ]
     },
     "execution_count": 32,
     "metadata": {},
     "output_type": "execute_result"
    }
   ],
   "source": [
    "# with 2 col\n",
    "\n",
    "df = pd.read_csv(r'c:\\Users\\hp\\Downloads\\kohli_ipl (1).csv', index_col='match_no')\n",
    "df"
   ]
  },
  {
   "cell_type": "code",
   "execution_count": null,
   "metadata": {},
   "outputs": [
    {
     "data": {
      "text/plain": [
       "match_no\n",
       "1       1\n",
       "2      23\n",
       "3      13\n",
       "4      12\n",
       "5       1\n",
       "       ..\n",
       "211     0\n",
       "212    20\n",
       "213    73\n",
       "214    25\n",
       "215     7\n",
       "Name: runs, Length: 215, dtype: int64"
      ]
     },
     "execution_count": 40,
     "metadata": {},
     "output_type": "execute_result"
    }
   ],
   "source": [
    "df = pd.read_csv(r'c:\\Users\\hp\\Downloads\\kohli_ipl (1).csv', index_col='match_no')\n",
    "df = df.squeeze(\"columns\") \n",
    "\n",
    "df"
   ]
  },
  {
   "cell_type": "code",
   "execution_count": 45,
   "metadata": {},
   "outputs": [
    {
     "data": {
      "text/plain": [
       "movie\n",
       "Uri: The Surgical Strike                   Vicky Kaushal\n",
       "Battalion 609                                Vicky Ahuja\n",
       "The Accidental Prime Minister (film)         Anupam Kher\n",
       "Why Cheat India                            Emraan Hashmi\n",
       "Evening Shadows                         Mona Ambegaonkar\n",
       "                                              ...       \n",
       "Hum Tumhare Hain Sanam                    Shah Rukh Khan\n",
       "Aankhen (2002 film)                     Amitabh Bachchan\n",
       "Saathiya (film)                             Vivek Oberoi\n",
       "Company (film)                                Ajay Devgn\n",
       "Awara Paagal Deewana                        Akshay Kumar\n",
       "Name: lead, Length: 1500, dtype: object"
      ]
     },
     "execution_count": 45,
     "metadata": {},
     "output_type": "execute_result"
    }
   ],
   "source": [
    "movie = pd.read_csv(r'C:\\Users\\hp\\Downloads\\bollywood.csv', index_col='movie').squeeze()\n",
    "\n",
    "movie"
   ]
  },
  {
   "cell_type": "markdown",
   "metadata": {},
   "source": [
    "# Series Methods"
   ]
  },
  {
   "cell_type": "code",
   "execution_count": null,
   "metadata": {},
   "outputs": [
    {
     "data": {
      "text/plain": [
       "0    48\n",
       "1    57\n",
       "2    40\n",
       "3    43\n",
       "4    44\n",
       "Name: Subscribers gained, dtype: int64"
      ]
     },
     "execution_count": 46,
     "metadata": {},
     "output_type": "execute_result"
    }
   ],
   "source": [
    "# head -> first 5 subs\n",
    "subs.head()\n"
   ]
  },
  {
   "cell_type": "code",
   "execution_count": 47,
   "metadata": {},
   "outputs": [
    {
     "data": {
      "text/plain": [
       "match_no\n",
       "1     1\n",
       "2    23\n",
       "3    13\n",
       "Name: runs, dtype: int64"
      ]
     },
     "execution_count": 47,
     "metadata": {},
     "output_type": "execute_result"
    }
   ],
   "source": [
    "df.head(3)"
   ]
  },
  {
   "cell_type": "code",
   "execution_count": 48,
   "metadata": {},
   "outputs": [
    {
     "data": {
      "text/plain": [
       "match_no\n",
       "211     0\n",
       "212    20\n",
       "213    73\n",
       "214    25\n",
       "215     7\n",
       "Name: runs, dtype: int64"
      ]
     },
     "execution_count": 48,
     "metadata": {},
     "output_type": "execute_result"
    }
   ],
   "source": [
    "# tail  -> last 5 rows\n",
    "\n",
    "df.tail()\n"
   ]
  },
  {
   "cell_type": "code",
   "execution_count": null,
   "metadata": {},
   "outputs": [
    {
     "data": {
      "text/plain": [
       "movie\n",
       "Jhootha Hi Sahi    John Abraham\n",
       "Name: lead, dtype: object"
      ]
     },
     "execution_count": 49,
     "metadata": {},
     "output_type": "execute_result"
    }
   ],
   "source": [
    "# sample  -> randomly generate movie\n",
    "\n",
    "movie.sample()"
   ]
  },
  {
   "cell_type": "code",
   "execution_count": 50,
   "metadata": {},
   "outputs": [
    {
     "data": {
      "text/plain": [
       "movie\n",
       "Commando: A One Man Army    Vidyut Jammwal\n",
       "Name: lead, dtype: object"
      ]
     },
     "execution_count": 50,
     "metadata": {},
     "output_type": "execute_result"
    }
   ],
   "source": [
    "# sample \n",
    "\n",
    "movie.sample()"
   ]
  },
  {
   "cell_type": "code",
   "execution_count": 52,
   "metadata": {},
   "outputs": [
    {
     "data": {
      "text/plain": [
       "movie\n",
       "Jab Tak Hai Jaan                Shah Rukh Khan\n",
       "Welcome (2007 film)               Akshay Kumar\n",
       "Phobia (2016 film)                Radhika Apte\n",
       "Dongari Ka Raja                      Ronit Roy\n",
       "Rangoon (2017 Hindi film)       Kangana Ranaut\n",
       "Gali Guleiyan                   Manoj Bajpayee\n",
       "1920: London                     Sharman Joshi\n",
       "Dostana (2008 film)          Abhishek Bachchan\n",
       "Vaada Raha                          Bobby Deol\n",
       "Mere Brother Ki Dulhan              Imran Khan\n",
       "Name: lead, dtype: object"
      ]
     },
     "execution_count": 52,
     "metadata": {},
     "output_type": "execute_result"
    }
   ],
   "source": [
    "# sample \n",
    "\n",
    "movie.sample(10)"
   ]
  },
  {
   "cell_type": "code",
   "execution_count": 54,
   "metadata": {},
   "outputs": [
    {
     "data": {
      "text/plain": [
       "lead\n",
       "Akshay Kumar            48\n",
       "Amitabh Bachchan        45\n",
       "Ajay Devgn              38\n",
       "Salman Khan             31\n",
       "Sanjay Dutt             26\n",
       "                        ..\n",
       "Tanishaa Mukerji         1\n",
       "Tanuja                   1\n",
       "Ankit                    1\n",
       "Rakhee Gulzar            1\n",
       "Geetika Vidya Ohlyan     1\n",
       "Name: count, Length: 566, dtype: int64"
      ]
     },
     "execution_count": 54,
     "metadata": {},
     "output_type": "execute_result"
    }
   ],
   "source": [
    "# value_counts -> movie \n",
    "movie.value_counts()\n"
   ]
  },
  {
   "cell_type": "code",
   "execution_count": 55,
   "metadata": {},
   "outputs": [
    {
     "data": {
      "text/plain": [
       "match_no\n",
       "8        0\n",
       "87       0\n",
       "93       0\n",
       "91       0\n",
       "206      0\n",
       "      ... \n",
       "164    100\n",
       "120    100\n",
       "123    108\n",
       "126    109\n",
       "128    113\n",
       "Name: runs, Length: 215, dtype: int64"
      ]
     },
     "execution_count": 55,
     "metadata": {},
     "output_type": "execute_result"
    }
   ],
   "source": [
    "# sort_values -> inplace \n",
    "\n",
    "df.sort_values()"
   ]
  },
  {
   "cell_type": "code",
   "execution_count": 58,
   "metadata": {},
   "outputs": [
    {
     "data": {
      "text/plain": [
       "match_no\n",
       "128    113\n",
       "126    109\n",
       "123    108\n",
       "120    100\n",
       "164    100\n",
       "      ... \n",
       "93       0\n",
       "130      0\n",
       "206      0\n",
       "207      0\n",
       "211      0\n",
       "Name: runs, Length: 215, dtype: int64"
      ]
     },
     "execution_count": 58,
     "metadata": {},
     "output_type": "execute_result"
    }
   ],
   "source": [
    "\n",
    "# sort_values -> ascending order\n",
    "\n",
    "df.sort_values(ascending=False)"
   ]
  },
  {
   "cell_type": "code",
   "execution_count": 59,
   "metadata": {},
   "outputs": [
    {
     "data": {
      "text/plain": [
       "np.int64(113)"
      ]
     },
     "execution_count": 59,
     "metadata": {},
     "output_type": "execute_result"
    }
   ],
   "source": [
    "# highest score \n",
    "df.sort_values(ascending=False).head(1).values[0]"
   ]
  },
  {
   "cell_type": "code",
   "execution_count": 70,
   "metadata": {},
   "outputs": [
    {
     "data": {
      "text/plain": [
       "match_no\n",
       "1       1\n",
       "2      23\n",
       "3      13\n",
       "4      12\n",
       "5       1\n",
       "       ..\n",
       "211     0\n",
       "212    20\n",
       "213    73\n",
       "214    25\n",
       "215     7\n",
       "Name: runs, Length: 215, dtype: int64"
      ]
     },
     "execution_count": 70,
     "metadata": {},
     "output_type": "execute_result"
    }
   ],
   "source": [
    "# sort_index -> inplace -> \n",
    "\n",
    "df = df.copy()\n",
    "df.sort_index(inplace=True)\n",
    "df"
   ]
  },
  {
   "cell_type": "code",
   "execution_count": 67,
   "metadata": {},
   "outputs": [
    {
     "data": {
      "text/plain": [
       "movie\n",
       "1920 (film)                   Rajniesh Duggall\n",
       "1920: London                     Sharman Joshi\n",
       "1920: The Evil Returns             Vicky Ahuja\n",
       "1971 (2007 film)                Manoj Bajpayee\n",
       "2 States (2014 film)              Arjun Kapoor\n",
       "                                   ...        \n",
       "Zindagi 50-50                      Veena Malik\n",
       "Zindagi Na Milegi Dobara        Hrithik Roshan\n",
       "Zindagi Tere Naam           Mithun Chakraborty\n",
       "Zokkomon                       Darsheel Safary\n",
       "Zor Lagaa Ke...Haiya!            Meghan Jadhav\n",
       "Name: lead, Length: 1500, dtype: object"
      ]
     },
     "execution_count": 67,
     "metadata": {},
     "output_type": "execute_result"
    }
   ],
   "source": [
    "# sort_index -> inplace -> movie\n",
    "movie.sort_index()"
   ]
  },
  {
   "cell_type": "code",
   "execution_count": 68,
   "metadata": {},
   "outputs": [],
   "source": [
    "movie.sort_index(inplace=True)"
   ]
  },
  {
   "cell_type": "code",
   "execution_count": 69,
   "metadata": {},
   "outputs": [
    {
     "data": {
      "text/plain": [
       "movie\n",
       "1920 (film)                   Rajniesh Duggall\n",
       "1920: London                     Sharman Joshi\n",
       "1920: The Evil Returns             Vicky Ahuja\n",
       "1971 (2007 film)                Manoj Bajpayee\n",
       "2 States (2014 film)              Arjun Kapoor\n",
       "                                   ...        \n",
       "Zindagi 50-50                      Veena Malik\n",
       "Zindagi Na Milegi Dobara        Hrithik Roshan\n",
       "Zindagi Tere Naam           Mithun Chakraborty\n",
       "Zokkomon                       Darsheel Safary\n",
       "Zor Lagaa Ke...Haiya!            Meghan Jadhav\n",
       "Name: lead, Length: 1500, dtype: object"
      ]
     },
     "execution_count": 69,
     "metadata": {},
     "output_type": "execute_result"
    }
   ],
   "source": [
    "movie"
   ]
  },
  {
   "cell_type": "code",
   "execution_count": 71,
   "metadata": {},
   "outputs": [
    {
     "data": {
      "text/plain": [
       "movie\n",
       "Zor Lagaa Ke...Haiya!            Meghan Jadhav\n",
       "Zokkomon                       Darsheel Safary\n",
       "Zindagi Tere Naam           Mithun Chakraborty\n",
       "Zindagi Na Milegi Dobara        Hrithik Roshan\n",
       "Zindagi 50-50                      Veena Malik\n",
       "                                   ...        \n",
       "2 States (2014 film)              Arjun Kapoor\n",
       "1971 (2007 film)                Manoj Bajpayee\n",
       "1920: The Evil Returns             Vicky Ahuja\n",
       "1920: London                     Sharman Joshi\n",
       "1920 (film)                   Rajniesh Duggall\n",
       "Name: lead, Length: 1500, dtype: object"
      ]
     },
     "execution_count": 71,
     "metadata": {},
     "output_type": "execute_result"
    }
   ],
   "source": [
    "movie.sort_index(ascending=False,inplace=True)\n",
    "movie"
   ]
  },
  {
   "cell_type": "markdown",
   "metadata": {},
   "source": [
    "# Series Maths Methods "
   ]
  },
  {
   "cell_type": "code",
   "execution_count": 72,
   "metadata": {},
   "outputs": [
    {
     "data": {
      "text/plain": [
       "np.int64(215)"
      ]
     },
     "execution_count": 72,
     "metadata": {},
     "output_type": "execute_result"
    }
   ],
   "source": [
    "# count \n",
    "\n",
    "df.count()"
   ]
  },
  {
   "cell_type": "code",
   "execution_count": 73,
   "metadata": {},
   "outputs": [
    {
     "data": {
      "text/plain": [
       "np.int64(1500)"
      ]
     },
     "execution_count": 73,
     "metadata": {},
     "output_type": "execute_result"
    }
   ],
   "source": [
    "movie.count()"
   ]
  },
  {
   "cell_type": "code",
   "execution_count": 74,
   "metadata": {},
   "outputs": [
    {
     "data": {
      "text/plain": [
       "np.int64(49510)"
      ]
     },
     "execution_count": 74,
     "metadata": {},
     "output_type": "execute_result"
    }
   ],
   "source": [
    "# sum -> product\n",
    "\n",
    "subs.sum()"
   ]
  },
  {
   "cell_type": "code",
   "execution_count": 76,
   "metadata": {},
   "outputs": [
    {
     "data": {
      "text/plain": [
       "np.int64(0)"
      ]
     },
     "execution_count": 76,
     "metadata": {},
     "output_type": "execute_result"
    }
   ],
   "source": [
    "subs.product()"
   ]
  },
  {
   "cell_type": "code",
   "execution_count": 77,
   "metadata": {},
   "outputs": [
    {
     "data": {
      "text/plain": [
       "np.float64(135.64383561643837)"
      ]
     },
     "execution_count": 77,
     "metadata": {},
     "output_type": "execute_result"
    }
   ],
   "source": [
    "# mean - > median -> mode -> std -> var\n",
    "subs.mean()"
   ]
  },
  {
   "cell_type": "code",
   "execution_count": 78,
   "metadata": {},
   "outputs": [
    {
     "data": {
      "text/plain": [
       "np.float64(123.0)"
      ]
     },
     "execution_count": 78,
     "metadata": {},
     "output_type": "execute_result"
    }
   ],
   "source": [
    "subs.median()"
   ]
  },
  {
   "cell_type": "code",
   "execution_count": 79,
   "metadata": {},
   "outputs": [
    {
     "data": {
      "text/plain": [
       "np.float64(24.0)"
      ]
     },
     "execution_count": 79,
     "metadata": {},
     "output_type": "execute_result"
    }
   ],
   "source": [
    "df.median()"
   ]
  },
  {
   "cell_type": "code",
   "execution_count": 82,
   "metadata": {},
   "outputs": [
    {
     "data": {
      "text/plain": [
       "0    Akshay Kumar\n",
       "Name: lead, dtype: object"
      ]
     },
     "execution_count": 82,
     "metadata": {},
     "output_type": "execute_result"
    }
   ],
   "source": [
    "movie.mode()"
   ]
  },
  {
   "cell_type": "code",
   "execution_count": 83,
   "metadata": {},
   "outputs": [
    {
     "data": {
      "text/plain": [
       "np.float64(62.6750230372527)"
      ]
     },
     "execution_count": 83,
     "metadata": {},
     "output_type": "execute_result"
    }
   ],
   "source": [
    "subs.std()"
   ]
  },
  {
   "cell_type": "code",
   "execution_count": 84,
   "metadata": {},
   "outputs": [
    {
     "data": {
      "text/plain": [
       "np.float64(3928.1585127201565)"
      ]
     },
     "execution_count": 84,
     "metadata": {},
     "output_type": "execute_result"
    }
   ],
   "source": [
    "subs.var()"
   ]
  },
  {
   "cell_type": "code",
   "execution_count": 85,
   "metadata": {},
   "outputs": [
    {
     "data": {
      "text/plain": [
       "np.float64(688.0024777222343)"
      ]
     },
     "execution_count": 85,
     "metadata": {},
     "output_type": "execute_result"
    }
   ],
   "source": [
    "df.var()"
   ]
  },
  {
   "cell_type": "code",
   "execution_count": 86,
   "metadata": {},
   "outputs": [
    {
     "data": {
      "text/plain": [
       "np.int64(33)"
      ]
     },
     "execution_count": 86,
     "metadata": {},
     "output_type": "execute_result"
    }
   ],
   "source": [
    "# min / max\n",
    "\n",
    "subs.min()"
   ]
  },
  {
   "cell_type": "code",
   "execution_count": 87,
   "metadata": {},
   "outputs": [
    {
     "data": {
      "text/plain": [
       "np.int64(396)"
      ]
     },
     "execution_count": 87,
     "metadata": {},
     "output_type": "execute_result"
    }
   ],
   "source": [
    "subs.max()"
   ]
  },
  {
   "cell_type": "code",
   "execution_count": 88,
   "metadata": {},
   "outputs": [
    {
     "data": {
      "text/plain": [
       "count    215.000000\n",
       "mean      30.855814\n",
       "std       26.229801\n",
       "min        0.000000\n",
       "25%        9.000000\n",
       "50%       24.000000\n",
       "75%       48.000000\n",
       "max      113.000000\n",
       "Name: runs, dtype: float64"
      ]
     },
     "execution_count": 88,
     "metadata": {},
     "output_type": "execute_result"
    }
   ],
   "source": [
    "# describe -> providing a summary \n",
    "\n",
    "df.describe()\n",
    "\n"
   ]
  },
  {
   "cell_type": "code",
   "execution_count": 89,
   "metadata": {},
   "outputs": [
    {
     "data": {
      "text/plain": [
       "count    365.000000\n",
       "mean     135.643836\n",
       "std       62.675023\n",
       "min       33.000000\n",
       "25%       88.000000\n",
       "50%      123.000000\n",
       "75%      177.000000\n",
       "max      396.000000\n",
       "Name: Subscribers gained, dtype: float64"
      ]
     },
     "execution_count": 89,
     "metadata": {},
     "output_type": "execute_result"
    }
   ],
   "source": [
    "subs.describe()"
   ]
  },
  {
   "cell_type": "markdown",
   "metadata": {},
   "source": [
    "# Series Indexing "
   ]
  },
  {
   "cell_type": "code",
   "execution_count": 98,
   "metadata": {},
   "outputs": [
    {
     "data": {
      "text/plain": [
       "0    12\n",
       "1    13\n",
       "2    14\n",
       "3    35\n",
       "4    44\n",
       "5    55\n",
       "6    77\n",
       "7    88\n",
       "8     9\n",
       "9    99\n",
       "dtype: int64"
      ]
     },
     "execution_count": 98,
     "metadata": {},
     "output_type": "execute_result"
    }
   ],
   "source": [
    "# integer indexing \n",
    "\n",
    "x = pd.Series([12,13,14,35,44,55,77,88,9,99])\n",
    "x"
   ]
  },
  {
   "cell_type": "code",
   "execution_count": 97,
   "metadata": {},
   "outputs": [
    {
     "data": {
      "text/plain": [
       "np.int64(12)"
      ]
     },
     "execution_count": 97,
     "metadata": {},
     "output_type": "execute_result"
    }
   ],
   "source": [
    "x[0]"
   ]
  },
  {
   "cell_type": "code",
   "execution_count": 91,
   "metadata": {},
   "outputs": [
    {
     "data": {
      "text/plain": [
       "np.int64(14)"
      ]
     },
     "execution_count": 91,
     "metadata": {},
     "output_type": "execute_result"
    }
   ],
   "source": [
    "x[2]"
   ]
  },
  {
   "cell_type": "code",
   "execution_count": null,
   "metadata": {},
   "outputs": [
    {
     "ename": "KeyError",
     "evalue": "-1",
     "output_type": "error",
     "traceback": [
      "\u001b[1;31m---------------------------------------------------------------------------\u001b[0m",
      "\u001b[1;31mValueError\u001b[0m                                Traceback (most recent call last)",
      "File \u001b[1;32mc:\\Users\\hp\\AppData\\Local\\Programs\\Python\\Python312\\Lib\\site-packages\\pandas\\core\\indexes\\range.py:413\u001b[0m, in \u001b[0;36mRangeIndex.get_loc\u001b[1;34m(self, key)\u001b[0m\n\u001b[0;32m    412\u001b[0m \u001b[38;5;28;01mtry\u001b[39;00m:\n\u001b[1;32m--> 413\u001b[0m     \u001b[38;5;28;01mreturn\u001b[39;00m \u001b[38;5;28;43mself\u001b[39;49m\u001b[38;5;241;43m.\u001b[39;49m\u001b[43m_range\u001b[49m\u001b[38;5;241;43m.\u001b[39;49m\u001b[43mindex\u001b[49m\u001b[43m(\u001b[49m\u001b[43mnew_key\u001b[49m\u001b[43m)\u001b[49m\n\u001b[0;32m    414\u001b[0m \u001b[38;5;28;01mexcept\u001b[39;00m \u001b[38;5;167;01mValueError\u001b[39;00m \u001b[38;5;28;01mas\u001b[39;00m err:\n",
      "\u001b[1;31mValueError\u001b[0m: -1 is not in range",
      "\nThe above exception was the direct cause of the following exception:\n",
      "\u001b[1;31mKeyError\u001b[0m                                  Traceback (most recent call last)",
      "Cell \u001b[1;32mIn[92], line 2\u001b[0m\n\u001b[0;32m      1\u001b[0m \u001b[38;5;66;03m# negative indexing \u001b[39;00m\n\u001b[1;32m----> 2\u001b[0m \u001b[43mx\u001b[49m\u001b[43m[\u001b[49m\u001b[38;5;241;43m-\u001b[39;49m\u001b[38;5;241;43m1\u001b[39;49m\u001b[43m]\u001b[49m\n",
      "File \u001b[1;32mc:\\Users\\hp\\AppData\\Local\\Programs\\Python\\Python312\\Lib\\site-packages\\pandas\\core\\series.py:1121\u001b[0m, in \u001b[0;36mSeries.__getitem__\u001b[1;34m(self, key)\u001b[0m\n\u001b[0;32m   1118\u001b[0m     \u001b[38;5;28;01mreturn\u001b[39;00m \u001b[38;5;28mself\u001b[39m\u001b[38;5;241m.\u001b[39m_values[key]\n\u001b[0;32m   1120\u001b[0m \u001b[38;5;28;01melif\u001b[39;00m key_is_scalar:\n\u001b[1;32m-> 1121\u001b[0m     \u001b[38;5;28;01mreturn\u001b[39;00m \u001b[38;5;28;43mself\u001b[39;49m\u001b[38;5;241;43m.\u001b[39;49m\u001b[43m_get_value\u001b[49m\u001b[43m(\u001b[49m\u001b[43mkey\u001b[49m\u001b[43m)\u001b[49m\n\u001b[0;32m   1123\u001b[0m \u001b[38;5;66;03m# Convert generator to list before going through hashable part\u001b[39;00m\n\u001b[0;32m   1124\u001b[0m \u001b[38;5;66;03m# (We will iterate through the generator there to check for slices)\u001b[39;00m\n\u001b[0;32m   1125\u001b[0m \u001b[38;5;28;01mif\u001b[39;00m is_iterator(key):\n",
      "File \u001b[1;32mc:\\Users\\hp\\AppData\\Local\\Programs\\Python\\Python312\\Lib\\site-packages\\pandas\\core\\series.py:1237\u001b[0m, in \u001b[0;36mSeries._get_value\u001b[1;34m(self, label, takeable)\u001b[0m\n\u001b[0;32m   1234\u001b[0m     \u001b[38;5;28;01mreturn\u001b[39;00m \u001b[38;5;28mself\u001b[39m\u001b[38;5;241m.\u001b[39m_values[label]\n\u001b[0;32m   1236\u001b[0m \u001b[38;5;66;03m# Similar to Index.get_value, but we do not fall back to positional\u001b[39;00m\n\u001b[1;32m-> 1237\u001b[0m loc \u001b[38;5;241m=\u001b[39m \u001b[38;5;28;43mself\u001b[39;49m\u001b[38;5;241;43m.\u001b[39;49m\u001b[43mindex\u001b[49m\u001b[38;5;241;43m.\u001b[39;49m\u001b[43mget_loc\u001b[49m\u001b[43m(\u001b[49m\u001b[43mlabel\u001b[49m\u001b[43m)\u001b[49m\n\u001b[0;32m   1239\u001b[0m \u001b[38;5;28;01mif\u001b[39;00m is_integer(loc):\n\u001b[0;32m   1240\u001b[0m     \u001b[38;5;28;01mreturn\u001b[39;00m \u001b[38;5;28mself\u001b[39m\u001b[38;5;241m.\u001b[39m_values[loc]\n",
      "File \u001b[1;32mc:\\Users\\hp\\AppData\\Local\\Programs\\Python\\Python312\\Lib\\site-packages\\pandas\\core\\indexes\\range.py:415\u001b[0m, in \u001b[0;36mRangeIndex.get_loc\u001b[1;34m(self, key)\u001b[0m\n\u001b[0;32m    413\u001b[0m         \u001b[38;5;28;01mreturn\u001b[39;00m \u001b[38;5;28mself\u001b[39m\u001b[38;5;241m.\u001b[39m_range\u001b[38;5;241m.\u001b[39mindex(new_key)\n\u001b[0;32m    414\u001b[0m     \u001b[38;5;28;01mexcept\u001b[39;00m \u001b[38;5;167;01mValueError\u001b[39;00m \u001b[38;5;28;01mas\u001b[39;00m err:\n\u001b[1;32m--> 415\u001b[0m         \u001b[38;5;28;01mraise\u001b[39;00m \u001b[38;5;167;01mKeyError\u001b[39;00m(key) \u001b[38;5;28;01mfrom\u001b[39;00m \u001b[38;5;21;01merr\u001b[39;00m\n\u001b[0;32m    416\u001b[0m \u001b[38;5;28;01mif\u001b[39;00m \u001b[38;5;28misinstance\u001b[39m(key, Hashable):\n\u001b[0;32m    417\u001b[0m     \u001b[38;5;28;01mraise\u001b[39;00m \u001b[38;5;167;01mKeyError\u001b[39;00m(key)\n",
      "\u001b[1;31mKeyError\u001b[0m: -1"
     ]
    }
   ],
   "source": [
    "# negative indexing \n",
    "x[-1] # series cannot work on neg indexing with lists but work only string"
   ]
  },
  {
   "cell_type": "code",
   "execution_count": 93,
   "metadata": {},
   "outputs": [
    {
     "data": {
      "text/plain": [
       "movie\n",
       "Zor Lagaa Ke...Haiya!            Meghan Jadhav\n",
       "Zokkomon                       Darsheel Safary\n",
       "Zindagi Tere Naam           Mithun Chakraborty\n",
       "Zindagi Na Milegi Dobara        Hrithik Roshan\n",
       "Zindagi 50-50                      Veena Malik\n",
       "                                   ...        \n",
       "2 States (2014 film)              Arjun Kapoor\n",
       "1971 (2007 film)                Manoj Bajpayee\n",
       "1920: The Evil Returns             Vicky Ahuja\n",
       "1920: London                     Sharman Joshi\n",
       "1920 (film)                   Rajniesh Duggall\n",
       "Name: lead, Length: 1500, dtype: object"
      ]
     },
     "execution_count": 93,
     "metadata": {},
     "output_type": "execute_result"
    }
   ],
   "source": [
    "movie"
   ]
  },
  {
   "cell_type": "code",
   "execution_count": 95,
   "metadata": {},
   "outputs": [
    {
     "data": {
      "text/plain": [
       "'Meghan Jadhav'"
      ]
     },
     "execution_count": 95,
     "metadata": {},
     "output_type": "execute_result"
    }
   ],
   "source": [
    "movie['Zor Lagaa Ke...Haiya!']"
   ]
  },
  {
   "cell_type": "code",
   "execution_count": 94,
   "metadata": {},
   "outputs": [
    {
     "name": "stderr",
     "output_type": "stream",
     "text": [
      "C:\\Users\\hp\\AppData\\Local\\Temp\\ipykernel_9464\\657415701.py:1: FutureWarning: Series.__getitem__ treating keys as positions is deprecated. In a future version, integer keys will always be treated as labels (consistent with DataFrame behavior). To access a value by position, use `ser.iloc[pos]`\n",
      "  movie[0]\n"
     ]
    },
    {
     "data": {
      "text/plain": [
       "'Meghan Jadhav'"
      ]
     },
     "execution_count": 94,
     "metadata": {},
     "output_type": "execute_result"
    }
   ],
   "source": [
    "movie[0]"
   ]
  },
  {
   "cell_type": "code",
   "execution_count": null,
   "metadata": {},
   "outputs": [
    {
     "name": "stderr",
     "output_type": "stream",
     "text": [
      "C:\\Users\\hp\\AppData\\Local\\Temp\\ipykernel_9464\\988795955.py:1: FutureWarning: Series.__getitem__ treating keys as positions is deprecated. In a future version, integer keys will always be treated as labels (consistent with DataFrame behavior). To access a value by position, use `ser.iloc[pos]`\n",
      "  movie[-1]\n"
     ]
    },
    {
     "data": {
      "text/plain": [
       "'Rajniesh Duggall'"
      ]
     },
     "execution_count": 96,
     "metadata": {},
     "output_type": "execute_result"
    }
   ],
   "source": [
    "movie[-1] # work because if use with string "
   ]
  },
  {
   "cell_type": "code",
   "execution_count": null,
   "metadata": {},
   "outputs": [
    {
     "data": {
      "text/plain": [
       "maths       67\n",
       "english     57\n",
       "science     89\n",
       "hindi      100\n",
       "Name: Awais marks, dtype: int64"
      ]
     },
     "execution_count": 101,
     "metadata": {},
     "output_type": "execute_result"
    }
   ],
   "source": []
  },
  {
   "cell_type": "code",
   "execution_count": 102,
   "metadata": {},
   "outputs": [
    {
     "data": {
      "text/plain": [
       "match_no\n",
       "6      9\n",
       "7     34\n",
       "8      0\n",
       "9     21\n",
       "10     3\n",
       "11    10\n",
       "12    38\n",
       "13     3\n",
       "14    11\n",
       "15    50\n",
       "16     2\n",
       "Name: runs, dtype: int64"
      ]
     },
     "execution_count": 102,
     "metadata": {},
     "output_type": "execute_result"
    }
   ],
   "source": [
    "# slicing \n",
    "\n",
    "df[5:16]"
   ]
  },
  {
   "cell_type": "code",
   "execution_count": 104,
   "metadata": {},
   "outputs": [
    {
     "data": {
      "text/plain": [
       "match_no\n",
       "208     9\n",
       "209    58\n",
       "210    30\n",
       "211     0\n",
       "212    20\n",
       "213    73\n",
       "214    25\n",
       "215     7\n",
       "Name: runs, dtype: int64"
      ]
     },
     "execution_count": 104,
     "metadata": {},
     "output_type": "execute_result"
    }
   ],
   "source": [
    "# negative slicing \n",
    "\n",
    "df[-8:]"
   ]
  },
  {
   "cell_type": "code",
   "execution_count": 105,
   "metadata": {},
   "outputs": [
    {
     "data": {
      "text/plain": [
       "movie\n",
       "2 States (2014 film)          Arjun Kapoor\n",
       "1971 (2007 film)            Manoj Bajpayee\n",
       "1920: The Evil Returns         Vicky Ahuja\n",
       "1920: London                 Sharman Joshi\n",
       "1920 (film)               Rajniesh Duggall\n",
       "Name: lead, dtype: object"
      ]
     },
     "execution_count": 105,
     "metadata": {},
     "output_type": "execute_result"
    }
   ],
   "source": [
    "movie[-5:]"
   ]
  },
  {
   "cell_type": "code",
   "execution_count": 106,
   "metadata": {},
   "outputs": [
    {
     "data": {
      "text/plain": [
       "movie\n",
       "Zor Lagaa Ke...Haiya!         Meghan Jadhav\n",
       "Zindagi Tere Naam        Mithun Chakraborty\n",
       "Zindagi 50-50                   Veena Malik\n",
       "Zinda (film)                    Sanjay Dutt\n",
       "Zid (2014 film)              Mannara Chopra\n",
       "                                ...        \n",
       "3 Storeys                       Aisha Ahmed\n",
       "3 Deewarein                Naseeruddin Shah\n",
       "22 Yards                        Barun Sobti\n",
       "1971 (2007 film)             Manoj Bajpayee\n",
       "1920: London                  Sharman Joshi\n",
       "Name: lead, Length: 750, dtype: object"
      ]
     },
     "execution_count": 106,
     "metadata": {},
     "output_type": "execute_result"
    }
   ],
   "source": [
    "movie[::2]"
   ]
  },
  {
   "cell_type": "code",
   "execution_count": 107,
   "metadata": {},
   "outputs": [
    {
     "data": {
      "text/plain": [
       "match_no\n",
       "1     1\n",
       "3    13\n",
       "4    12\n",
       "5     1\n",
       "Name: runs, dtype: int64"
      ]
     },
     "execution_count": 107,
     "metadata": {},
     "output_type": "execute_result"
    }
   ],
   "source": [
    "# fancy indexing \n",
    "\n",
    "df[[1,3,4,5]]"
   ]
  },
  {
   "cell_type": "code",
   "execution_count": 108,
   "metadata": {},
   "outputs": [
    {
     "data": {
      "text/plain": [
       "match_no\n",
       "4    12\n",
       "5     1\n",
       "7    34\n",
       "Name: runs, dtype: int64"
      ]
     },
     "execution_count": 108,
     "metadata": {},
     "output_type": "execute_result"
    }
   ],
   "source": [
    "df[[4,5,7]]"
   ]
  },
  {
   "cell_type": "code",
   "execution_count": 110,
   "metadata": {},
   "outputs": [
    {
     "data": {
      "text/plain": [
       "'Arjun Kapoor'"
      ]
     },
     "execution_count": 110,
     "metadata": {},
     "output_type": "execute_result"
    }
   ],
   "source": [
    "# indexing with lables \n",
    "\n",
    "movie['2 States (2014 film)']"
   ]
  },
  {
   "cell_type": "markdown",
   "metadata": {},
   "source": [
    "# Editing Series"
   ]
  },
  {
   "cell_type": "code",
   "execution_count": 111,
   "metadata": {},
   "outputs": [
    {
     "name": "stdout",
     "output_type": "stream",
     "text": [
      "maths       67\n",
      "english    100\n",
      "science     89\n",
      "hindi      100\n",
      "Name: Awais marks, dtype: int64\n"
     ]
    },
    {
     "name": "stderr",
     "output_type": "stream",
     "text": [
      "C:\\Users\\hp\\AppData\\Local\\Temp\\ipykernel_9464\\1978671175.py:2: FutureWarning: Series.__setitem__ treating keys as positions is deprecated. In a future version, integer keys will always be treated as labels (consistent with DataFrame behavior). To set a value by position, use `ser.iloc[pos] = value`\n",
      "  marks_series[1] = 100\n"
     ]
    }
   ],
   "source": [
    "# using indexing \n",
    "marks_series[1] = 100\n",
    "print(marks_series)\n"
   ]
  },
  {
   "cell_type": "code",
   "execution_count": 112,
   "metadata": {},
   "outputs": [],
   "source": [
    "# if indx not exist \n",
    "\n",
    "marks_series['stv'] = 90\n"
   ]
  },
  {
   "cell_type": "code",
   "execution_count": 114,
   "metadata": {},
   "outputs": [
    {
     "data": {
      "text/plain": [
       "maths       67\n",
       "english    100\n",
       "science     89\n",
       "hindi      100\n",
       "stv         90\n",
       "Name: Awais marks, dtype: int64"
      ]
     },
     "execution_count": 114,
     "metadata": {},
     "output_type": "execute_result"
    }
   ],
   "source": [
    "marks_series"
   ]
  },
  {
   "cell_type": "code",
   "execution_count": 117,
   "metadata": {},
   "outputs": [
    {
     "data": {
      "text/plain": [
       "match_no\n",
       "1        1\n",
       "2       23\n",
       "3      100\n",
       "4      100\n",
       "5        1\n",
       "      ... \n",
       "211      0\n",
       "212     20\n",
       "213     73\n",
       "214     25\n",
       "215      7\n",
       "Name: runs, Length: 215, dtype: int64"
      ]
     },
     "execution_count": 117,
     "metadata": {},
     "output_type": "execute_result"
    }
   ],
   "source": [
    "# silicing \n",
    "\n",
    "df[2:4] = [100,100]\n",
    "df"
   ]
  },
  {
   "cell_type": "code",
   "execution_count": 120,
   "metadata": {},
   "outputs": [
    {
     "data": {
      "text/plain": [
       "match_no\n",
       "1       1\n",
       "2       0\n",
       "3       0\n",
       "4       0\n",
       "5       1\n",
       "       ..\n",
       "211     0\n",
       "212    20\n",
       "213    73\n",
       "214    25\n",
       "215     7\n",
       "Name: runs, Length: 215, dtype: int64"
      ]
     },
     "execution_count": 120,
     "metadata": {},
     "output_type": "execute_result"
    }
   ],
   "source": [
    "# fancy ind\n",
    "\n",
    "df[[2,3,4]] = [0,0,0]\n",
    "df"
   ]
  },
  {
   "cell_type": "code",
   "execution_count": 124,
   "metadata": {},
   "outputs": [
    {
     "data": {
      "text/plain": [
       "movie\n",
       "Zor Lagaa Ke...Haiya!            Meghan Jadhav\n",
       "Zokkomon                       Darsheel Safary\n",
       "Zindagi Tere Naam           Mithun Chakraborty\n",
       "Zindagi Na Milegi Dobara        Hrithik Roshan\n",
       "Zindagi 50-50                      Veena Malik\n",
       "                                   ...        \n",
       "2 States (2014 film)                Babar Azam\n",
       "1971 (2007 film)                Manoj Bajpayee\n",
       "1920: The Evil Returns             Vicky Ahuja\n",
       "1920: London                     Sharman Joshi\n",
       "1920 (film)                   Rajniesh Duggall\n",
       "Name: lead, Length: 1500, dtype: object"
      ]
     },
     "execution_count": 124,
     "metadata": {},
     "output_type": "execute_result"
    }
   ],
   "source": [
    "# using indx label \n",
    "movie['2 States (2014 film)'] = 'Babar Azam'\n",
    "\n",
    "movie"
   ]
  },
  {
   "cell_type": "markdown",
   "metadata": {},
   "source": [
    "# Series with python Functionality"
   ]
  },
  {
   "cell_type": "code",
   "execution_count": 126,
   "metadata": {},
   "outputs": [
    {
     "name": "stdout",
     "output_type": "stream",
     "text": [
      "365\n",
      "<class 'pandas.core.series.Series'>\n"
     ]
    }
   ],
   "source": [
    "# len/type/dir/sorted/max/min\n",
    "\n",
    "print(len(subs))\n",
    "print(type(subs))"
   ]
  },
  {
   "cell_type": "code",
   "execution_count": null,
   "metadata": {},
   "outputs": [
    {
     "name": "stdout",
     "output_type": "stream",
     "text": [
      "['T', '_AXIS_LEN', '_AXIS_ORDERS', '_AXIS_TO_AXIS_NUMBER', '_HANDLED_TYPES', '__abs__', '__add__', '__and__', '__annotations__', '__array__', '__array_priority__', '__array_ufunc__', '__bool__', '__class__', '__column_consortium_standard__', '__contains__', '__copy__', '__deepcopy__', '__delattr__', '__delitem__', '__dict__', '__dir__', '__divmod__', '__doc__', '__eq__', '__finalize__', '__float__', '__floordiv__', '__format__', '__ge__', '__getattr__', '__getattribute__', '__getitem__', '__getstate__', '__gt__', '__hash__', '__iadd__', '__iand__', '__ifloordiv__', '__imod__', '__imul__', '__init__', '__init_subclass__', '__int__', '__invert__', '__ior__', '__ipow__', '__isub__', '__iter__', '__itruediv__', '__ixor__', '__le__', '__len__', '__lt__', '__matmul__', '__mod__', '__module__', '__mul__', '__ne__', '__neg__', '__new__', '__nonzero__', '__or__', '__pandas_priority__', '__pos__', '__pow__', '__radd__', '__rand__', '__rdivmod__', '__reduce__', '__reduce_ex__', '__repr__', '__rfloordiv__', '__rmatmul__', '__rmod__', '__rmul__', '__ror__', '__round__', '__rpow__', '__rsub__', '__rtruediv__', '__rxor__', '__setattr__', '__setitem__', '__setstate__', '__sizeof__', '__str__', '__sub__', '__subclasshook__', '__truediv__', '__weakref__', '__xor__', '_accessors', '_accum_func', '_agg_examples_doc', '_agg_see_also_doc', '_align_for_op', '_align_frame', '_align_series', '_append', '_arith_method', '_as_manager', '_attrs', '_binop', '_cacher', '_can_hold_na', '_check_inplace_and_allows_duplicate_labels', '_check_is_chained_assignment_possible', '_check_label_or_level_ambiguity', '_check_setitem_copy', '_clear_item_cache', '_clip_with_one_bound', '_clip_with_scalar', '_cmp_method', '_consolidate', '_consolidate_inplace', '_construct_axes_dict', '_construct_result', '_constructor', '_constructor_expanddim', '_constructor_expanddim_from_mgr', '_constructor_from_mgr', '_data', '_deprecate_downcast', '_dir_additions', '_dir_deletions', '_drop_axis', '_drop_labels_or_levels', '_duplicated', '_find_valid_index', '_flags', '_flex_method', '_from_mgr', '_get_axis', '_get_axis_name', '_get_axis_number', '_get_axis_resolvers', '_get_block_manager_axis', '_get_bool_data', '_get_cacher', '_get_cleaned_column_resolvers', '_get_index_resolvers', '_get_label_or_level_values', '_get_numeric_data', '_get_rows_with_mask', '_get_value', '_get_values_tuple', '_get_with', '_getitem_slice', '_gotitem', '_hidden_attrs', '_indexed_same', '_info_axis', '_info_axis_name', '_info_axis_number', '_init_dict', '_init_mgr', '_inplace_method', '_internal_names', '_internal_names_set', '_is_cached', '_is_copy', '_is_label_or_level_reference', '_is_label_reference', '_is_level_reference', '_is_mixed_type', '_is_view', '_is_view_after_cow_rules', '_item_cache', '_ixs', '_logical_func', '_logical_method', '_map_values', '_maybe_update_cacher', '_memory_usage', '_metadata', '_mgr', '_min_count_stat_function', '_name', '_needs_reindex_multi', '_pad_or_backfill', '_protect_consolidate', '_reduce', '_references', '_reindex_axes', '_reindex_indexer', '_reindex_multi', '_reindex_with_indexers', '_rename', '_replace_single', '_repr_data_resource_', '_repr_latex_', '_reset_cache', '_reset_cacher', '_set_as_cached', '_set_axis', '_set_axis_name', '_set_axis_nocheck', '_set_is_copy', '_set_labels', '_set_name', '_set_value', '_set_values', '_set_with', '_set_with_engine', '_shift_with_freq', '_slice', '_stat_function', '_stat_function_ddof', '_take_with_is_copy', '_to_latex_via_styler', '_typ', '_update_inplace', '_validate_dtype', '_values', '_where', 'abs', 'add', 'add_prefix', 'add_suffix', 'agg', 'aggregate', 'align', 'all', 'any', 'apply', 'argmax', 'argmin', 'argsort', 'array', 'asfreq', 'asof', 'astype', 'at', 'at_time', 'attrs', 'autocorr', 'axes', 'backfill', 'between', 'between_time', 'bfill', 'bool', 'case_when', 'clip', 'combine', 'combine_first', 'compare', 'convert_dtypes', 'copy', 'corr', 'count', 'cov', 'cummax', 'cummin', 'cumprod', 'cumsum', 'describe', 'diff', 'div', 'divide', 'divmod', 'dot', 'drop', 'drop_duplicates', 'droplevel', 'dropna', 'dtype', 'dtypes', 'duplicated', 'empty', 'eq', 'equals', 'ewm', 'expanding', 'explode', 'factorize', 'ffill', 'fillna', 'filter', 'first', 'first_valid_index', 'flags', 'floordiv', 'ge', 'get', 'groupby', 'gt', 'hasnans', 'head', 'hist', 'iat', 'idxmax', 'idxmin', 'iloc', 'index', 'infer_objects', 'info', 'interpolate', 'is_monotonic_decreasing', 'is_monotonic_increasing', 'is_unique', 'isin', 'isna', 'isnull', 'item', 'items', 'keys', 'kurt', 'kurtosis', 'last', 'last_valid_index', 'le', 'list', 'loc', 'lt', 'map', 'mask', 'max', 'mean', 'median', 'memory_usage', 'min', 'mod', 'mode', 'mul', 'multiply', 'name', 'nbytes', 'ndim', 'ne', 'nlargest', 'notna', 'notnull', 'nsmallest', 'nunique', 'pad', 'pct_change', 'pipe', 'plot', 'pop', 'pow', 'prod', 'product', 'quantile', 'radd', 'rank', 'ravel', 'rdiv', 'rdivmod', 'reindex', 'reindex_like', 'rename', 'rename_axis', 'reorder_levels', 'repeat', 'replace', 'resample', 'reset_index', 'rfloordiv', 'rmod', 'rmul', 'rolling', 'round', 'rpow', 'rsub', 'rtruediv', 'sample', 'searchsorted', 'sem', 'set_axis', 'set_flags', 'shape', 'shift', 'size', 'skew', 'sort_index', 'sort_values', 'squeeze', 'std', 'struct', 'sub', 'subtract', 'sum', 'swapaxes', 'swaplevel', 'tail', 'take', 'to_clipboard', 'to_csv', 'to_dict', 'to_excel', 'to_frame', 'to_hdf', 'to_json', 'to_latex', 'to_list', 'to_markdown', 'to_numpy', 'to_period', 'to_pickle', 'to_sql', 'to_string', 'to_timestamp', 'to_xarray', 'transform', 'transpose', 'truediv', 'truncate', 'tz_convert', 'tz_localize', 'unique', 'unstack', 'update', 'value_counts', 'values', 'var', 'view', 'where', 'xs']\n"
     ]
    }
   ],
   "source": [
    "# dir\n",
    "print(dir(subs))"
   ]
  },
  {
   "cell_type": "code",
   "execution_count": null,
   "metadata": {},
   "outputs": [
    {
     "name": "stdout",
     "output_type": "stream",
     "text": [
      "[33, 33, 35, 37, 39, 40, 40, 40, 40, 42, 42, 43, 44, 44, 44, 45, 46, 46, 48, 49, 49, 49, 49, 50, 50, 50, 51, 54, 56, 56, 56, 56, 57, 61, 62, 64, 65, 65, 66, 66, 66, 66, 67, 68, 70, 70, 70, 71, 71, 72, 72, 72, 72, 72, 73, 74, 74, 75, 76, 76, 76, 76, 77, 77, 78, 78, 78, 79, 79, 80, 80, 80, 81, 81, 82, 82, 83, 83, 83, 84, 84, 84, 85, 86, 86, 86, 87, 87, 87, 87, 88, 88, 88, 88, 88, 89, 89, 89, 90, 90, 90, 90, 91, 92, 92, 92, 93, 93, 93, 93, 95, 95, 96, 96, 96, 96, 97, 97, 98, 98, 99, 99, 100, 100, 100, 101, 101, 101, 102, 102, 103, 103, 104, 104, 104, 105, 105, 105, 105, 105, 105, 105, 105, 105, 108, 108, 108, 108, 108, 108, 109, 109, 110, 110, 110, 111, 111, 112, 113, 113, 113, 114, 114, 114, 114, 115, 115, 115, 115, 117, 117, 117, 118, 118, 119, 119, 119, 119, 120, 122, 123, 123, 123, 123, 123, 124, 125, 126, 127, 128, 128, 129, 130, 131, 131, 132, 132, 134, 134, 134, 135, 135, 136, 136, 136, 137, 138, 138, 138, 139, 140, 144, 145, 146, 146, 146, 146, 147, 149, 150, 150, 150, 150, 151, 152, 152, 152, 153, 153, 153, 154, 154, 154, 155, 155, 156, 156, 156, 156, 157, 157, 157, 157, 158, 158, 159, 159, 160, 160, 160, 160, 162, 164, 166, 167, 167, 168, 170, 170, 170, 170, 171, 172, 172, 173, 173, 173, 174, 174, 175, 175, 176, 176, 177, 178, 179, 179, 180, 180, 180, 182, 183, 183, 183, 184, 184, 184, 185, 185, 185, 185, 186, 186, 186, 188, 189, 190, 190, 192, 192, 192, 196, 196, 196, 197, 197, 202, 202, 202, 203, 204, 206, 207, 209, 210, 210, 211, 212, 213, 214, 216, 219, 220, 221, 221, 222, 222, 224, 225, 225, 226, 227, 228, 229, 230, 231, 233, 236, 236, 237, 241, 243, 244, 245, 247, 249, 254, 254, 258, 259, 259, 261, 261, 265, 267, 268, 269, 276, 276, 290, 295, 301, 306, 312, 396]\n"
     ]
    }
   ],
   "source": [
    "# sorted\n",
    "print(sorted(subs))"
   ]
  },
  {
   "cell_type": "code",
   "execution_count": null,
   "metadata": {},
   "outputs": [
    {
     "name": "stdout",
     "output_type": "stream",
     "text": [
      "396\n"
     ]
    }
   ],
   "source": [
    "# max\n",
    "print(max(subs))"
   ]
  },
  {
   "cell_type": "code",
   "execution_count": null,
   "metadata": {},
   "outputs": [
    {
     "name": "stdout",
     "output_type": "stream",
     "text": [
      "33\n"
     ]
    }
   ],
   "source": [
    "# min\n",
    "print(min(subs))"
   ]
  },
  {
   "cell_type": "code",
   "execution_count": 132,
   "metadata": {},
   "outputs": [
    {
     "data": {
      "text/plain": [
       "[67, 100, 89, 100, 90]"
      ]
     },
     "execution_count": 132,
     "metadata": {},
     "output_type": "execute_result"
    }
   ],
   "source": [
    "# type conversion\n",
    "\n",
    "list(marks_series)"
   ]
  },
  {
   "cell_type": "code",
   "execution_count": 133,
   "metadata": {},
   "outputs": [
    {
     "data": {
      "text/plain": [
       "{'maths': np.int64(67),\n",
       " 'english': np.int64(100),\n",
       " 'science': np.int64(89),\n",
       " 'hindi': np.int64(100),\n",
       " 'stv': np.int64(90)}"
      ]
     },
     "execution_count": 133,
     "metadata": {},
     "output_type": "execute_result"
    }
   ],
   "source": [
    "dict(marks_series)"
   ]
  },
  {
   "cell_type": "code",
   "execution_count": 135,
   "metadata": {},
   "outputs": [
    {
     "data": {
      "text/plain": [
       "True"
      ]
     },
     "execution_count": 135,
     "metadata": {},
     "output_type": "execute_result"
    }
   ],
   "source": [
    "# membership operator\n",
    "\n",
    "'2 States (2014 film)' in movie"
   ]
  },
  {
   "cell_type": "code",
   "execution_count": 136,
   "metadata": {},
   "outputs": [
    {
     "data": {
      "text/plain": [
       "True"
      ]
     },
     "execution_count": 136,
     "metadata": {},
     "output_type": "execute_result"
    }
   ],
   "source": [
    "'Babar Azam' in movie.values"
   ]
  },
  {
   "cell_type": "code",
   "execution_count": 137,
   "metadata": {},
   "outputs": [
    {
     "name": "stdout",
     "output_type": "stream",
     "text": [
      "Meghan Jadhav\n",
      "Darsheel Safary\n",
      "Mithun Chakraborty\n",
      "Hrithik Roshan\n",
      "Veena Malik\n",
      "Sushmita Sen\n",
      "Sanjay Dutt\n",
      "Vivek Oberoi\n",
      "Mannara Chopra\n",
      "Shah Rukh Khan\n",
      "Emraan Hashmi\n",
      "Vinod Acharya\n",
      "Ajay Devgn\n",
      "Ajay Devgn\n",
      "Jeetendra\n",
      "Salman Khan\n",
      "Ajay Devgn\n",
      "Paresh Rawal\n",
      "Jackky Bhagnani\n",
      "Vardhan Puri\n",
      "Anupam Kher\n",
      "Shah Rukh Khan\n",
      "Anya Anand\n",
      "Ranbir Kapoor\n",
      "Gavie Chahal\n",
      "Anshuman Jha\n",
      "Deepshika Nagpal\n",
      "Tusshar Kapoor\n",
      "Rekha\n",
      "Dharmendra\n",
      "Nafisa Ali\n",
      "Arjun Rampal\n",
      "Prisha Aneja\n",
      "Siddhanth Kapoor\n",
      "Indrapal Ahuja\n",
      "Sharman Joshi\n",
      "Sikander Kher\n",
      "Kangana Ranaut\n",
      "Emraan Hashmi\n",
      "Harman Baweja\n",
      "Manu Rishi Chadha\n",
      "Boman Irani\n",
      "Shreyas Talpade\n",
      "Anil Kapoor\n",
      "Arshad Warsi\n",
      "Akshay Kumar\n",
      "Diganth\n",
      "Nana Patekar\n",
      "Gurdas Maan\n",
      "Sharman Joshi\n",
      "Amitabh Bachchan\n",
      "Salman Khan\n",
      "Ranbir Kapoor\n",
      "Elisha Kriis\n",
      "Sharman Joshi\n",
      "Naseeruddin Shah\n",
      "Arshad Warsi\n",
      "Shreyas Talpade\n",
      "Rajesh Khanna\n",
      "Niharica Raizada\n",
      "Leeza Mangaldas\n",
      "Kay Kay Menon\n",
      "Shahid Kapoor\n",
      "Kamal Haasan\n",
      "Amitabh Bachchan\n",
      "Vikram Aditya\n",
      "Harman Baweja\n",
      "Ayushmann Khurrana\n",
      "Hugh Bonneville\n",
      "Kay Kay Menon\n",
      "Pulkit Samrat\n",
      "Sachiin Joshi\n",
      "Shah Rukh Khan\n",
      "Salman Khan\n",
      "Shikhi Gupta\n",
      "Vicky Ahuja\n",
      "Shahid Kapoor\n",
      "Bobby Deol\n",
      "Arjun Rampal\n",
      "Mohit Baghel\n",
      "Priyanshu Chatterjee\n",
      "Vinay Pathak\n",
      "Vicky Kaushal\n",
      "Russell Geoffrey Banks\n",
      "Rahul Bhat\n",
      "Emraan Hashmi\n",
      "Aashish Bhatt\n",
      "Aishwarya Rai Bachchan\n",
      "Jimmy Sheirgill\n",
      "Sunny Singh Nijjar\n",
      "Rahul Bhat\n",
      "Shahid Kapoor\n",
      "Rajat Barmecha\n",
      "Mikaal\n",
      "Ajay Devgn\n",
      "Gul Panag\n",
      "Emraan Hashmi\n",
      "Vidya Balan\n",
      "Sohum Shah\n",
      "Nana Patekar\n",
      "Emraan Hashmi\n",
      "Neha Sharma\n",
      "Manisha Koirala\n",
      "Riteish Deshmukh\n",
      "Salman Khan\n",
      "Vikrum Kumar\n",
      "Rajkummar Rao\n",
      "Kunal Khemu\n",
      "Manoj Bajpayee\n",
      "Ali Zafar\n",
      "Ajay Devgn\n",
      "Ajay Devgn\n",
      "Rakesh Bedi\n",
      "Akshay Kumar\n",
      "Tabu\n",
      "Nishant Dahiya\n",
      "Nawazuddin Siddiqui\n",
      "Salman Khan\n",
      "Aamir Khan\n",
      "Saahil Chadha\n",
      "Arya Babbar\n",
      "Saif Ali Khan\n",
      "Bhavita Anand\n",
      "Sonam Kapoor\n",
      "Himesh Reshammiya\n",
      "Emraan Hashmi\n",
      "Naseeruddin Shah\n",
      "Kay Kay Menon\n",
      "Zaira Wasim\n",
      "Mann Bagga\n",
      "Akshay Kumar\n",
      "Edwin Fernandes\n",
      "Kal Penn\n",
      "Irrfan Khan\n",
      "Amitabh Bachchan\n",
      "Irrfan Khan\n",
      "Shakti Kapoor\n",
      "Rahul Bose\n",
      "Sunny Deol\n",
      "Rana Daggubati\n",
      "Kunaal Roy Kapur\n",
      "Ranvir Shorey\n",
      "Nassar Abdulla\n",
      "Vidya Balan\n",
      "Nawazuddin Siddiqui\n",
      "Kartik Elangovan\n",
      "Pankaj Kapur\n",
      "Anupam Kher\n",
      "Master Shams\n",
      "Akshay Kumar\n",
      "Nawazuddin Siddiqui\n",
      "Anil Kapoor\n",
      "Arjun Kapoor\n",
      "Shahid Kapoor\n",
      "Salman Khan\n",
      "Riteish Deshmukh\n",
      "Vinay Pathak\n",
      "Parthaa Akerkar\n",
      "Ali Zafar\n",
      "Neil Nitin Mukesh\n",
      "Dharmendra\n",
      "Shabana Azmi\n",
      "Sunny Deol\n",
      "Akshay Kumar\n",
      "Om Puri\n",
      "Amitabh Bachchan\n",
      "Amitabh Bachchan\n",
      "Nana Patekar\n",
      "Sanjay Dutt\n",
      "Akshay Kumar\n",
      "Kangana Ranaut\n",
      "Kangana Ranaut\n",
      "Madhavan\n",
      "Ajay Devgn\n",
      "Nikhil Dwivedi\n",
      "Irrfan Khan\n",
      "Rakhee Gulzar\n",
      "Aamir Khan\n",
      "Sulabha Arya\n",
      "Zulfi Sayed\n",
      "Victor Banerjee\n",
      "Paresh Rawal\n",
      "Vatsal Sheth\n",
      "Darsheel Safary\n",
      "Saif Ali Khan\n",
      "Himansh Kohli\n",
      "Manoj Bajpayee\n",
      "Shah Rukh Khan\n",
      "Rekha\n",
      "Ashmit Patel\n",
      "Hrithik Roshan\n",
      "Aftab Shivdasani\n",
      "Jaya Bachchan\n",
      "Ajay Devgn\n",
      "Ahraz Ahmed\n",
      "Salman Khan\n",
      "Naveen Kasturia\n",
      "Gurdas Maan\n",
      "Anushka Sharma\n",
      "Raveena Tandon\n",
      "Tiger Shroff\n",
      "Alia Bhatt\n",
      "Zeenat Aman\n",
      "Siddharth\n",
      "Rajkummar Rao\n",
      "Jimmy Sheirgill\n",
      "Jahangir Khan\n",
      "Kanika Batra\n",
      "Partho A. Gupte\n",
      "Aarti Chhabria\n",
      "Tanishaa Mukerji\n",
      "Urmila Matondkar\n",
      "Akshay Kumar\n",
      "Rati Agnihotri\n",
      "Mahima Chaudhry\n",
      "Shamim Khan\n",
      "Shabana Azmi\n",
      "Tinnu Anand\n",
      "Kartik Aaryan\n",
      "Sunidhi Chauhan\n",
      "Geetika Vidya Ohlyan\n",
      "Sushant Singh Rajput\n",
      "Rhea Chakraborty\n",
      "Ajay Devgn\n",
      "Abhay Deol\n",
      "Barkha Madan\n",
      "Wamiqa Gabbi\n",
      "Kay Kay Menon\n",
      "Anupam Kher\n",
      "Ajay Devgn\n",
      "Sunny Deol\n",
      "Akshay Kumar\n",
      "Akshay Kumar\n",
      "Kangana Ranaut\n",
      "Ranveer Singh\n",
      "Tabu\n",
      "Parzaan Dastur\n",
      "Rajesh Tailang\n",
      "Anupam Kher\n",
      "Sushant Singh Rajput\n",
      "Ayushmann Khurrana\n",
      "Tushar Jalota\n",
      "Sanjay Dutt\n",
      "Jimmy Sheirgill\n",
      "Neil Nitin Mukesh\n",
      "Jimmy Sheirgill\n",
      "Sendhil Ramamurthy\n",
      "Amitabh Bachchan\n",
      "Sanjeev Kumar\n",
      "Ajay Devgn\n",
      "Mohit Ahlawat\n",
      "Freny Bhagat\n",
      "Aida Elkashef\n",
      "Ajay Devgn\n",
      "Neha Dhupia\n",
      "Tarun Arora\n",
      "Tusshar Kapoor\n",
      "Zayed Khan\n",
      "Emraan Hashmi\n",
      "Amitabh Bachchan\n",
      "Bobby Deol\n",
      "Kalki Koechlin\n",
      "Rajkummar Rao\n",
      "Nana Patekar\n",
      "Isha Koppikar\n",
      "Ashutosh Rana\n",
      "Sanjay Dutt\n",
      "Ashish Bisht\n",
      "Aditya Narayan\n",
      "Shahid Kapoor\n",
      "Akshaye Khanna\n",
      "Fardeen Khan\n",
      "Rajkummar Rao\n",
      "Farhan Akhtar\n",
      "Salman Khan\n",
      "Sanjay Suri\n",
      "Shreyas Talpade\n",
      "Arshad Warsi\n",
      "Akshaye Khanna\n",
      "Zaira Wasim\n",
      "Dharmendra\n",
      "Mandar Jadhav\n",
      "John Abraham\n",
      "Amitabh Bachchan\n",
      "Puneet Singh Ratn\n",
      "Raveena Tandon\n",
      "Sanjay Mishra\n",
      "Suraj Pancholi\n",
      "Amitabh Bachchan\n",
      "Amitabh Bachchan\n",
      "Amitabh Bachchan\n",
      "Mahima Chaudhry\n",
      "Randeep Hooda\n",
      "Boman Irani\n",
      "Kay Kay Menon\n",
      "Ranbir Kapoor\n",
      "Govinda\n",
      "Rishi Kapoor\n",
      "Rajeev Khandelwal\n",
      "Sushmita Sen\n",
      "Zeenat Aman\n",
      "Salman Khan\n",
      "Saif Ali Khan\n",
      "Anupam Kher\n",
      "Jimmy Sheirgill\n",
      "Sanjay Dutt\n",
      "Jimmy Sheirgill\n",
      "Rekha\n",
      "Karan Sharma\n",
      "Sarika\n",
      "Sachin Tendulkar\n",
      "Swara Bhaskar\n",
      "John Abraham\n",
      "Rani Mukerji\n",
      "Salman Khan\n",
      "Vivek Oberoi\n",
      "Manoj Bajpayee\n",
      "Kiron Kher\n",
      "Vishwa Mohan Badola\n",
      "Sonarika Bhadoria\n",
      "Tanima Bhattacharya\n",
      "Taapsee Pannu\n",
      "Jacqueline Fernandez\n",
      "Ileana D'Cruz\n",
      "Emraan Hashmi\n",
      "Arsh Bajwa\n",
      "Abhishek Bachchan\n",
      "Tanuja\n",
      "Manoj Bajpayee\n",
      "Sanjay Dutt\n",
      "Arjun Rampal\n",
      "Tannishtha Chatterjee\n",
      "Tanushree Dutta\n",
      "Sunny Deol\n",
      "Irrfan Khan\n",
      "John Abraham\n",
      "Ranbir Kapoor\n",
      "Ranbir Kapoor\n",
      "Arjun Rampal\n",
      "Farhan Akhtar\n",
      "Aadil Chahal\n",
      "Saif Ali Khan\n",
      "Paresh Rawal\n",
      "Rajesh Khanna\n",
      "Garima Agarwal\n",
      "Vinod Khanna\n",
      "Sunny Deol\n",
      "Ankit\n",
      "Kalki Koechlin\n",
      "Kangana Ranaut\n",
      "Kashmira Shah\n",
      "Aftab Shivdasani\n",
      "Sherlyn Chopra\n",
      "Sunil Shetty\n",
      "Prince Shah\n",
      "Ajay Devgn\n",
      "Rahul Khanna\n",
      "Amitabh Bachchan\n",
      "Jackky Bhagnani\n",
      "Kangana Ranaut\n",
      "Randeep Hooda\n",
      "Aamir Khan\n",
      "Soundarya Sharma\n",
      "Manish Paul\n",
      "Naseeruddin Shah\n",
      "Madhavan\n",
      "Manoj Bajpayee\n",
      "Nawazuddin Siddiqui\n",
      "Shruti Haasan\n",
      "Sahil Khan\n",
      "Julia Datt\n",
      "Sanjay Dutt\n",
      "Amyra Dastur\n",
      "Kangana Ranaut\n",
      "Emraan Hashmi\n",
      "Sadashiv Amrapurkar\n",
      "Ajay Devgn\n",
      "Ajay Devgn\n",
      "Kay Kay Menon\n",
      "Sunny Leone\n",
      "Kainaz Motivala\n",
      "Vijay Raaz\n",
      "Raj Arjun\n",
      "Anil Kapoor\n",
      "Saif Ali Khan\n",
      "Saif Ali Khan\n",
      "Shah Rukh Khan\n",
      "Alia Bhatt\n",
      "Kangana Ranaut\n",
      "Emraan Hashmi\n",
      "Dino Morea\n",
      "Abhishek Bachchan\n",
      "Aamir Bashir\n",
      "Dhanush\n",
      "Kunal Kapoor\n",
      "Deepika Padukone\n",
      "Shah Rukh Khan\n",
      "Rajendra Prasad\n",
      "Kangana Ranaut\n",
      "Irrfan Khan\n",
      "Ajay Devgn\n",
      "Irrfan Khan\n",
      "Aadar Jain\n",
      "Fardeen Khan\n",
      "Rishi Kapoor\n",
      "Rahul Bose\n",
      "Kartik Aaryan\n",
      "Kartik Aaryan\n",
      "Priyanka Chopra\n",
      "Tanuj Virwani\n",
      "Vivek Oberoi\n",
      "Salman Khan\n",
      "Arbaaz Khan\n",
      "Jeetendra\n",
      "Sanjay Dutt\n",
      "Rajeev Khandelwal\n",
      "Chandan Roy Sanyal\n",
      "Raveena Tandon\n",
      "Sunny Deol\n",
      "Akshay Kapoor\n",
      "Sanjay Dutt\n",
      "Akshay Kumar\n",
      "Vinod Khanna\n",
      "Sanjay Dutt\n",
      "Akshay Oberoi\n",
      "Taapsee Pannu\n",
      "Urmila Matondkar\n",
      "Deepika Padukone\n",
      "Rahul Bagga\n",
      "Nawazuddin Siddiqui\n",
      "Sudeep\n",
      "Radhika Apte\n",
      "Salman Khan\n",
      "Mithun Chakraborty\n",
      "Akshay Kumar\n",
      "Anushka Sharma\n",
      "Rajniesh Duggall\n",
      "Shahid Kapoor\n",
      "Rajat Kapoor\n",
      "Saif Ali Khan\n",
      "Jimmy Sheirgill\n",
      "Vinod Khanna\n",
      "Omkar Das Manikpuri\n",
      "Shreyas Talpade\n",
      "Rishi Kapoor\n",
      "Kartik Aaryan\n",
      "Rishi Kapoor\n",
      "Sanya Malhotra\n",
      "Ajay Devgn\n",
      "Salman Khan\n",
      "John Abraham\n",
      "Saif Ali Khan\n",
      "Tannishtha Chatterjee\n",
      "Mohinder Gujral\n",
      "Bipasha Basu\n",
      "Nayna Bandhopadhyay\n",
      "Jackie Shroff\n",
      "Karan Deol\n",
      "Manisha Koirala\n",
      "Shah Rukh Khan\n",
      "Konkona Sen Sharma\n",
      "Kriti Kharbanda\n",
      "Sunil Shetty\n",
      "Deepika Padukone\n",
      "Nana Patekar\n",
      "John Abraham\n",
      "Nassar Abdulla\n",
      "Irrfan Khan\n",
      "Amitabh Bachchan\n",
      "Boman Irani\n",
      "Aamir Khan\n",
      "Bhavesh Kumar\n",
      "Meenakshi Dixit\n",
      "Abhay Deol\n",
      "Riteish Deshmukh\n",
      "Abhay Deol\n",
      "Tusshar Kapoor\n",
      "Anupam Kher\n",
      "Akshay Kumar\n",
      "Ajay Devgn\n",
      "Ajay Devgn\n",
      "Rajkummar Rao\n",
      "Gopi Desai\n",
      "Shah Rukh Khan\n",
      "Attin Bhalla\n",
      "Shraddha Kapoor\n",
      "Vinay Pathak\n",
      "Varun Dhawan\n",
      "Paresh Rawal\n",
      "Pulkit Samrat\n",
      "Madhavan\n",
      "Zaheer Iqbal\n",
      "Deepak Dobriyal\n",
      "Sunny Leone\n",
      "John Abraham\n",
      "Sanjay Dutt\n",
      "Rani Mukerji\n",
      "Anil Kapoor\n",
      "Amitabh Bachchan\n",
      "Ashmit Patel\n",
      "Swara Bhaskar\n",
      "Rajkummar Rao\n",
      "John Abraham\n",
      "Vinay Anand\n",
      "Sanjay Dutt\n",
      "Sonam Kapoor\n",
      "Uday Chopra\n",
      "Vikas Kalantri\n",
      "Dharmesh Yelande\n",
      "Ayushmann Khurrana\n",
      "Govinda\n",
      "Poonam Pandey\n",
      "Bobby Deol\n",
      "Abhay Deol\n",
      "Dwij Yadav\n",
      "Akshay Kumar\n",
      "Arjun Kapoor\n",
      "Sunny Deol\n",
      "Urmila Matondkar\n",
      "Taapsee Pannu\n",
      "Antara Mali\n",
      "Om Puri\n",
      "Anushka Sharma\n",
      "Auroshika Dey\n",
      "Anil Kapoor\n",
      "Shah Rukh Khan\n",
      "Prateik\n",
      "Sanjay Suri\n",
      "Jason Lewis\n",
      "Nora Fatehi\n",
      "Aftab Shivdasani\n",
      "Anil Kapoor\n",
      "Randeep Hooda\n",
      "Emraan Hashmi\n",
      "Mallika Sherawat\n",
      "Sanjay Singh\n",
      "Tiger Shroff\n",
      "Sanjay Dutt\n",
      "Kiron Kher\n",
      "Alieesa P Badresia\n",
      "Abhishek Bachchan\n",
      "Linda Arsenio\n",
      "Paresh Rawal\n",
      "Rahul Bose\n",
      "Mohsin\n",
      "Shiv Panditt\n",
      "Shakti Kapoor\n",
      "Karanvir Bohra\n",
      "Taapsee Pannu\n",
      "Viineet Kumar\n",
      "Sammir Dattani\n",
      "Salman Khan\n",
      "Saqib Saleem\n",
      "Prithviraj Kapoor\n",
      "Anil Kapoor\n",
      "Emraan Hashmi\n",
      "Prashant Narayanan\n",
      "Anupam Kher\n",
      "Dev Anand\n",
      "Saurav Chakraborty\n",
      "Nawazuddin Siddiqui\n",
      "Shabana Azmi\n",
      "Vijay Varma\n",
      "Ashutosh Rana\n",
      "Govinda\n",
      "Sridevi\n",
      "Hrithik Roshan\n",
      "Sunny Deol\n",
      "Neha Dhupia\n",
      "Hazel Croney\n",
      "Jackky Bhagnani\n",
      "Akshay Kumar\n",
      "Vivek Oberoi\n",
      "Manoj Bajpayee\n",
      "Rahul Bagga\n",
      "Harshvardhan Kapoor\n",
      "Arunoday Singh\n",
      "Chirag Paswan\n",
      "Kareena Kapoor\n",
      "Manish Paul\n",
      "Ayushmann Khurrana\n",
      "Akshay Kumar\n",
      "Rasika Agashe\n",
      "Akshay Kumar\n",
      "Yash Acharya\n",
      "Sunil Shetty\n",
      "Saqib Saleem\n",
      "Imran Khan\n",
      "Paresh Rawal\n",
      "Prabhu Deva\n",
      "Deepti Naval\n",
      "Puru Chibber\n",
      "Jaideep Ahlawat\n",
      "Anupam Kher\n",
      "Tabu\n",
      "Sonu Sood\n",
      "Shahid Kapoor\n",
      "Tulip Joshi\n",
      "Imran Khan\n",
      "Rahul Bagga\n",
      "Tusshar Kapoor\n",
      "Aftab Shivdasani\n",
      "Richa Chadha\n",
      "Priyanka Chopra\n",
      "Archana Joglekar\n",
      "Manisha Koirala\n",
      "Riteish Deshmukh\n",
      "Salman Khan\n",
      "Kalki Koechlin\n",
      "Rani Mukerji\n",
      "Rani Mukerji\n",
      "Abhimanyu Dasani\n",
      "Irrfan Khan\n",
      "Rajat Kapoor\n",
      "Nawazuddin Siddiqui\n",
      "Abhay Deol\n",
      "Taapsee Pannu\n",
      "Anjori Alagh\n",
      "Nawazuddin Siddiqui\n",
      "Kangana Ranaut\n",
      "Aamir Khan\n",
      "Akanksha\n",
      "Paresh Rawal\n",
      "Salman Khan\n",
      "Anupam Kher\n",
      "Varun Dhawan\n",
      "Hrithik Roshan\n",
      "Rajpal Yadav\n",
      "Antara Mali\n",
      "Juhi Chawla\n",
      "Smitha Gondkar\n",
      "Shah Rukh Khan\n",
      "Salman Khan\n",
      "Barun Sobti\n",
      "Ajay Devgn\n",
      "Asha Bhosle\n",
      "Sooraj Balaji\n",
      "John Abraham\n",
      "Bipasha Basu\n",
      "Rajkummar Rao\n",
      "Irrfan Khan\n",
      "Saahil Prem\n",
      "Kiara Advani\n",
      "Swara Bhaskar\n",
      "Sumit Nijhawan\n",
      "Raveena Tandon\n",
      "Mallika Sherawat\n",
      "Ashok Insan\n",
      "Gurmeet Ram Rahim Singh\n",
      "Charanpreet Insan\n",
      "Menekka Arora\n",
      "Sushant Singh Rajput\n",
      "Tom Alter\n",
      "Tanuj Virwani\n",
      "V. Ravichandran\n",
      "Salman Khan\n",
      "Arvinder Bhatti\n",
      "Farhan Akhtar\n",
      "Adhyayan Suman\n",
      "Farhan Akhtar\n",
      "Mithun Chakraborty\n",
      "Girish Taurani\n",
      "Vicky Kaushal\n",
      "Joy Mukherjee\n",
      "Tusshar Kapoor\n",
      "Harman Baweja\n",
      "Abhishek Bharate\n",
      "Anuj Sachdeva\n",
      "Nushrat Bharucha\n",
      "Rishi Kapoor\n",
      "Patralekhaa Paul\n",
      "Zayed Khan\n",
      "Saif Ali Khan\n",
      "Ranveer Singh\n",
      "Salman Khan\n",
      "Shabana Azmi\n",
      "Himanshu Bhatt\n",
      "John Abraham\n",
      "Farooq Shaikh\n",
      "Aahana Kumra\n",
      "Dharmendra\n",
      "Govinda\n",
      "Aftab Shivdasani\n",
      "Kay Kay Menon\n",
      "Manoj Amarnani\n",
      "Rituparna Sengupta\n",
      "Armaan Jain\n",
      "Sanjay Dutt\n",
      "Hrithik Roshan\n",
      "Monali Thakur\n",
      "Sunny Deol\n",
      "Avinash Tiwary\n",
      "Farooq Shaikh\n",
      "Sanjay Dutt\n",
      "Neil Nitin Mukesh\n",
      "Ranveer Singh\n",
      "Randeep Hooda\n",
      "Rani Mukerji\n",
      "Sanjay Dutt\n",
      "Amitabh Bachchan\n",
      "Salman Khan\n",
      "Riteish Deshmukh\n",
      "Tusshar Kapoor\n",
      "Tusshar Kapoor\n",
      "Tusshar Kapoor\n",
      "Vijay Raaz\n",
      "Rajpal Yadav\n",
      "Lewis Tan\n",
      "Siddharth Gupta\n",
      "Rekha\n",
      "Arshad Warsi\n",
      "Geetanjali Thapa\n",
      "Aishwarya Rai Bachchan\n",
      "Ram Kapoor\n",
      "Tusshar Kapoor\n",
      "Shefali Shah\n",
      "Rekha\n",
      "Sohail Khan\n",
      "Manoj Bajpayee\n",
      "Juhi Chawla\n",
      "Kannan Arunachalam\n",
      "Rekha\n",
      "Dia Mirza\n",
      "Aftab Shivdasani\n",
      "Sanjay Dutt\n",
      "Hrithik Roshan\n",
      "Arshad Warsi\n",
      "Vivek Oberoi\n",
      "Vivek Oberoi\n",
      "Shahid Kapoor\n",
      "Bobby Deol\n",
      "Jackie Shroff\n",
      "Kapil Sharma\n",
      "Mallika Sherawat\n",
      "Ranveer Singh\n",
      "Salman Khan\n",
      "Amitabh Bachchan\n",
      "Himanshu Malik\n",
      "Simer Motiani\n",
      "Fardeen Khan\n",
      "Sunny Deol\n",
      "Shiney Ahuja\n",
      "Anupam Kher\n",
      "Sonam Kapoor\n",
      "Supriya Pathak\n",
      "Sunny Deol\n",
      "Hazel Croney\n",
      "Akshay Kumar\n",
      "Rahul Jaiswal\n",
      "Gurmeet Choudhary\n",
      "Prabhu Deva\n",
      "Shilpa Shetty Kundra\n",
      "Kiron Kher\n",
      "Amitabh Bachchan\n",
      "Vinay Pathak\n",
      "Akshay Kumar\n",
      "Shahbaaz Khan\n",
      "Kunal Kapoor\n",
      "Raqesh Bapat\n",
      "Suhaas Ahuja\n",
      "Juhi Babbar\n",
      "Lucky Ali\n",
      "Himesh Reshammiya\n",
      "Irrfan Khan\n",
      "Siddhartha Gupta\n",
      "Rati Agnihotri\n",
      "Shiv Darshan\n",
      "Mahek Chahal\n",
      "John Abraham\n",
      "Sidharth Malhotra\n",
      "Shahid Kapoor\n",
      "Kunal Khemu\n",
      "Varun Dhawan\n",
      "Shah Rukh Khan\n",
      "Amit Hingorani\n",
      "Rajkummar Rao\n",
      "Eesha Agarwal\n",
      "Vidya Balan\n",
      "Om Puri\n",
      "Sanjay Mishra\n",
      "John Abraham\n",
      "Shahid Kapoor\n",
      "Amitabh Bachchan\n",
      "Aishwarya Devan\n",
      "Amitabh Bachchan\n",
      "Kartik Aaryan\n",
      "Aditya Srivastava\n",
      "Saif Ali Khan\n",
      "Ajay Devgn\n",
      "Vinay Pathak\n",
      "Hrithik Roshan\n",
      "Fardeen Khan\n",
      "Kamal Adib\n",
      "Pulkit Samrat\n",
      "Vidyut Jammwal\n",
      "Nishikant Kamat\n",
      "Neha Dhupia\n",
      "Sadhana Singh\n",
      "Varun Dhawan\n",
      "Kangana Ranaut\n",
      "Arshad Warsi\n",
      "Akshay Kumar\n",
      "Dharmendra\n",
      "Naseeruddin Shah\n",
      "Victor Banerjee\n",
      "Bipasha Basu\n",
      "Hrithik Roshan\n",
      "Sunny Gill\n",
      "Sunny Deol\n",
      "Bipasha Basu\n",
      "Mimoh Chakraborty\n",
      "Nassar Abdulla\n",
      "Harshvardhan Deo\n",
      "Richa Chadha\n",
      "Rishi Kapoor\n",
      "John Abraham\n",
      "Abhishek Bachchan\n",
      "Sanjay Suri\n",
      "Boman Irani\n",
      "Arbaaz Khan\n",
      "Ravi Kishan\n",
      "Aishwarya Rai Bachchan\n",
      "Vivek Oberoi\n",
      "Emraan Hashmi\n",
      "Amardeep Insan\n",
      "Emraan Hashmi\n",
      "Feroz Khan\n",
      "Mohit Ahlawat\n",
      "Harish Chabbra\n",
      "Rhea Chakraborty\n",
      "Purab Kohli\n",
      "Javed Jaffrey\n",
      "Manoj Bajpayee\n",
      "Fardeen Khan\n",
      "Rati Agnihotri\n",
      "Salman Khan\n",
      "Priyanka Chopra\n",
      "Chiranjeevi\n",
      "Govinda\n",
      "Ranbir Kapoor\n",
      "Naseeruddin Shah\n",
      "Amit Sadh\n",
      "Sidharth Malhotra\n",
      "Shahid Kapoor\n",
      "Shah Rukh Khan\n",
      "Shah Rukh Khan\n",
      "Akshay Anand\n",
      "Priyanka Chopra\n",
      "Aftab Shivdasani\n",
      "Salman Khan\n",
      "Sunny Deol\n",
      "Rina Charaniya\n",
      "Sanjeev Bhaskar\n",
      "Prateik\n",
      "Vinay Pathak\n",
      "Akshay Oberoi\n",
      "Vidya Balan\n",
      "Manish Anand\n",
      "Mimoh Chakraborty\n",
      "Shahid Kapoor\n",
      "Rishi Verma\n",
      "Dino Morea\n",
      "Krishna Chaturvedi\n",
      "Sara Loren\n",
      "Preity Zinta\n",
      "Arjun Kapoor\n",
      "Madhavan\n",
      "Naseeruddin Shah\n",
      "Amarjeet\n",
      "Shreyas Talpade\n",
      "Manoj Bajpayee\n",
      "Ashmit Patel\n",
      "Akshay Kumar\n",
      "Dino Morea\n",
      "Arjun Rampal\n",
      "Kirti Kulhari\n",
      "Jaz Pandher\n",
      "Arjun Kapoor\n",
      "Vivek Sudershan\n",
      "Arjun Rampal\n",
      "Sohail Khan\n",
      "Sunny Deol\n",
      "Shakti Anand\n",
      "Imran Khan\n",
      "Gulshan Grover\n",
      "Juhi Chawla\n",
      "Tisca Chopra\n",
      "Gulshan Devaiah\n",
      "Akshaye Khanna\n",
      "Saif Ali Khan\n",
      "Varun Dhawan\n",
      "Omkar Bhatkar\n",
      "Arjun Rampal\n",
      "Akshay Kumar\n",
      "Karanvir Bohra\n",
      "Shah Rukh Khan\n",
      "Tusshar Kapoor\n",
      "Arshad Warsi\n",
      "Saif Ali Khan\n",
      "Anupam Kher\n",
      "Prit Kamani\n",
      "Akshaye Khanna\n",
      "Akshay Kumar\n",
      "Akshay Kumar\n",
      "Akshay Kumar\n",
      "Adil Hussain\n",
      "Vatsal Sheth\n",
      "Karan Kundrra\n",
      "Naseeruddin Shah\n",
      "Zara Sheikh\n",
      "Ranvir Shorey\n",
      "Vivek Oberoi\n",
      "Akshay Kumar\n",
      "Onjolee Nair\n",
      "Mallika Sherawat\n",
      "Irrfan Khan\n",
      "Gurmeet Ram Rahim Singh\n",
      "Ajay Devgn\n",
      "Alia Bhatt\n",
      "Sumeet Vyas\n",
      "Rani Mukerji\n",
      "Juanna Sanghvi\n",
      "Ganesh Acharya\n",
      "Tiger Shroff\n",
      "Kareena Kapoor\n",
      "Sohail Khan\n",
      "Suraj Pancholi\n",
      "Bobby Deol\n",
      "Gul Panag\n",
      "Sharman Joshi\n",
      "Kajol\n",
      "Adhyayan Suman\n",
      "Kay Kay Menon\n",
      "Babbu Mann\n",
      "Shawar Ali\n",
      "Naman Jain\n",
      "Makrand Deshpande\n",
      "Tabu\n",
      "Aniket Vishwasrao\n",
      "Mimoh Chakraborty\n",
      "Akshay Kumar\n",
      "Nana Patekar\n",
      "Lee Byford\n",
      "Jay Bhanushali\n",
      "Nikhil Dwivedi\n",
      "Jimmy Sheirgill\n",
      "Shraddha Kapoor\n",
      "Sidharth Malhotra\n",
      "Jackie Shroff\n",
      "Nawazuddin Siddiqui\n",
      "Sonakshi Sinha\n",
      "Shah Rukh Khan\n",
      "Anay\n",
      "Saif Ali Khan\n",
      "Diana Penty\n",
      "Mukesh Khanna\n",
      "Talha Arshad Reshi\n",
      "Rajkummar Rao\n",
      "Ajay Devgn\n",
      "Paoli Dam\n",
      "Shraddha Kapoor\n",
      "Tabu\n",
      "Sahil Anand\n",
      "Jimmy Sheirgill\n",
      "Amita Pathak\n",
      "Hrithik Roshan\n",
      "Mithun Chakraborty\n",
      "Ranveer Singh\n",
      "Dino Morea\n",
      "Ranveer Singh\n",
      "Sampat Pal Devi\n",
      "Kay Kay Menon\n",
      "Madhuri Dixit\n",
      "Kartik Aaryan\n",
      "Arshad Warsi\n",
      "Kunal Khemu\n",
      "Vikram Dasu\n",
      "Urvashi Rautela\n",
      "Vivek Oberoi\n",
      "Vinay Pathak\n",
      "Imran Khan\n",
      "Akshay Kumar\n",
      "Tusshar Kapoor\n",
      "Deepika Amin\n",
      "Ajay Devgn\n",
      "Ajay Devgn\n",
      "Ajay Devgn\n",
      "Dimple Kapadia\n",
      "Ranveer Singh\n",
      "Akshay Kumar\n",
      "Amitabh Bachchan\n",
      "John Abraham\n",
      "Saif Ali Khan\n",
      "Gautam Gupta\n",
      "Pankaj Tripathi\n",
      "Isha Koppikar\n",
      "Riya Vij\n",
      "Sanaya Irani\n",
      "Shiney Ahuja\n",
      "Sunny Deol\n",
      "Vidya Balan\n",
      "Aamir Khan\n",
      "Utkarsh Sharma\n",
      "Tusshar Kapoor\n",
      "Mohan Azaad\n",
      "Naresh Sharma\n",
      "Salman Khan\n",
      "Akshay Kumar\n",
      "Kangana Ranaut\n",
      "Manoj Bajpayee\n",
      "Manoj Bajpayee\n",
      "Sarita Joshi\n",
      "Ajay Devgn\n",
      "Sharman Joshi\n",
      "Akshaye Khanna\n",
      "Abhishek Bachchan\n",
      "Manoj Bajpayee\n",
      "Akshay Kumar\n",
      "Akshay Kumar\n",
      "Rajveer Ankur Singh\n",
      "Rushali Arora\n",
      "Siddharth Koirala\n",
      "Pulkit Samrat\n",
      "Pulkit Samrat\n",
      "Jimmy Sheirgill\n",
      "Shubham\n",
      "Govinda\n",
      "Atmaram Bhende\n",
      "Bidita Bag\n",
      "Avinash Dhyani\n",
      "Nawazuddin Siddiqui\n",
      "Arshad Warsi\n",
      "Arjun Rampal\n",
      "John Abraham\n",
      "John Abraham\n",
      "Aftab Shivdasani\n",
      "Shahid Kapoor\n",
      "Reef Karim\n",
      "Jayesh Raj\n",
      "Aditya Roy Kapoor\n",
      "Kapil Sharma\n",
      "Inaamulhaq\n",
      "Deepika Padukone\n",
      "Sharib Hashmi\n",
      "Sunil Shetty\n",
      "Kareena Kapoor\n",
      "Rajeev Khandelwal\n",
      "Sharman Joshi\n",
      "Gul Panag\n",
      "Priyanka Chopra\n",
      "Shilpa Shetty Kundra\n",
      "Aamir Khan\n",
      "Shah Rukh Khan\n",
      "Arjun Rampal\n",
      "Jimmy Sheirgill\n",
      "Amitabh Bachchan\n",
      "Arshad Warsi\n",
      "Mona Ambegaonkar\n",
      "Manisha Koirala\n",
      "Akshay Kumar\n",
      "Sridevi\n",
      "Sunil Shetty\n",
      "Arjun Rampal\n",
      "Amitabh Bachchan\n",
      "Anupam Kher\n",
      "Prateik\n",
      "Bobby Deol\n",
      "Isha Koppikar\n",
      "Sidharth Malhotra\n",
      "Hema Malini\n",
      "Emraan Hashmi\n",
      "Salman Khan\n",
      "Bhushan Agarwal\n",
      "Anita\n",
      "Sunil Shetty\n",
      "Sunny Leone\n",
      "Kareena Kapoor\n",
      "Fardeen Khan\n",
      "Jimmy Sharma\n",
      "Saif Ali Khan\n",
      "Shiv Darshan\n",
      "Rahul Bose\n",
      "Abhay Deol\n",
      "Sanjay Dutt\n",
      "Nandita Das\n",
      "Amitabh Bachchan\n",
      "Raj Tara\n",
      "Arbaaz Khan\n",
      "Sanjay Dutt\n",
      "Zeenat Aman\n",
      "Abhishek Bachchan\n",
      "Ayushmann Khurrana\n",
      "Vivek Oberoi\n",
      "Sushmita Sen\n",
      "Diwakar Pathak\n",
      "Jayshree Arora\n",
      "Ajay Devgn\n",
      "Aseel Adel\n",
      "Ayushmann Khurrana\n",
      "Sanjay Dutt\n",
      "Ayesha Jhulka\n",
      "Akshay Kumar\n",
      "Abhishek Bachchan\n",
      "Ayesha Takia\n",
      "Ronit Roy\n",
      "Rishi Kapoor\n",
      "Mithun Chakraborty\n",
      "Shah Rukh Khan\n",
      "Shah Rukh Khan\n",
      "Malaika Arora\n",
      "Jackie Shroff\n",
      "Adil Hussain\n",
      "Kajal Aggarwal\n",
      "Rishi Kapoor\n",
      "John Abraham\n",
      "Harman Baweja\n",
      "Anupam Kher\n",
      "Rajniesh Duggall\n",
      "Shah Rukh Khan\n",
      "Ira Dubey\n",
      "Zeenat Aman\n",
      "Ajay Devgn\n",
      "Kapil Jhaveri\n",
      "Salman Khan\n",
      "Shahid Kapoor\n",
      "Irrfan Khan\n",
      "Arjun Rampal\n",
      "Taapsee Pannu\n",
      "Himansh Kohli\n",
      "Amitabh Bachchan\n",
      "Imaaduddin Shah\n",
      "Emraan Hashmi\n",
      "Anil Kapoor\n",
      "Shahid Kapoor\n",
      "Vikaas Kalantari\n",
      "Sushant Singh Rajput\n",
      "Amar Upadhyaya\n",
      "Om Puri\n",
      "Paresh Rawal\n",
      "Aamir Khan\n",
      "Hrithik Roshan\n",
      "Abhishek Bachchan\n",
      "Sharman Joshi\n",
      "Muzamil Ibrahim\n",
      "Prateik\n",
      "Ajay Devgn\n",
      "Pankaj Kapur\n",
      "Naseeruddin Shah\n",
      "Krrish Chhabria\n",
      "Sanjay Dutt\n",
      "Ishaan Khattar\n",
      "RJ Balaji\n",
      "Shah Rukh Khan\n",
      "Ram Kapoor\n",
      "Amitabh Bachchan\n",
      "Sushant Singh Rajput\n",
      "Sasha Aagha\n",
      "Akshay Kumar\n",
      "Kamal Rashid Khan\n",
      "Sanjay Dutt\n",
      "Waheeda Rehman\n",
      "Cary Elwes\n",
      "Imran Khan\n",
      "Satish Kaushik\n",
      "Adhyayan Suman\n",
      "Akshay Kumar\n",
      "Amitabh Bachchan\n",
      "Madhuri Dixit\n",
      "Alia Bhatt\n",
      "Manisha Koirala\n",
      "Raghuvir Yadav\n",
      "Arvind Swamy\n",
      "Rajit Kapoor\n",
      "Aftab Shivdasani\n",
      "Ajay Devgn\n",
      "Akshay Kumar\n",
      "Yash Soni\n",
      "Vinay Pathak\n",
      "Neil Nitin Mukesh\n",
      "Ishrat Ali\n",
      "Jimmy Sheirgill\n",
      "Amitabh Bachchan\n",
      "Sameera Reddy\n",
      "Fardeen Khan\n",
      "Karisma Kapoor\n",
      "Aamir Khan\n",
      "Himesh Reshammiya\n",
      "Sunil Shetty\n",
      "Arjun Rampal\n",
      "Salman Khan\n",
      "Salman Khan\n",
      "Salman Khan\n",
      "Aditya Roy Kapoor\n",
      "Yogesh Raj Mishra\n",
      "Rishi Kapoor\n",
      "Randeep Hooda\n",
      "Emraan Hashmi\n",
      "Bipasha Basu\n",
      "Swanand Kirkire\n",
      "Vira Sathidar\n",
      "Bipasha Basu\n",
      "Adhvik Mahajan\n",
      "Ajay Devgn\n",
      "Vidyut Jammwal\n",
      "Vidyut Jammwal\n",
      "Sunil Grover\n",
      "Arjun Mathur\n",
      "Saif Ali Khan\n",
      "Shreyas Talpade\n",
      "Mithun Chakraborty\n",
      "Rajkummar Rao\n",
      "Sachin Khedekar\n",
      "Ashok Banthia\n",
      "Zayed Khan\n",
      "Kareena Kapoor\n",
      "Ajay Devgn\n",
      "Deepak Dobriyal\n",
      "Anil Kapoor\n",
      "Manoj Bajpayee\n",
      "Rishi Kapoor\n",
      "Sushmita Sen\n",
      "Parveen Kaur\n",
      "Aarav Khanna\n",
      "Farooq Shaikh\n",
      "Mohammad Amir Naji\n",
      "Natalia Janoszek\n",
      "Rupa Bhimani\n",
      "Jimmy Sheirgill\n",
      "Jatin Grewal\n",
      "Deepika Padukone\n",
      "Bipasha Basu\n",
      "Saif Ali Khan\n",
      "Amitabh Bachchan\n",
      "Sanjay Dutt\n",
      "Ali Zafar\n",
      "Anuj Saxena\n",
      "Dev Anand\n",
      "Jimmy Sheirgill\n",
      "Mithun Chakraborty\n",
      "Samir Aftab\n",
      "Somesh Agarwal\n",
      "Shahid Kapoor\n",
      "Bobby Deol\n",
      "Kareena Kapoor\n",
      "Shah Rukh Khan\n",
      "Vinay Pathak\n",
      "Vickrant Mahajan\n",
      "Richa Chadha\n",
      "Sagar Bhangade\n",
      "Asrani\n",
      "Arjun Rampal\n",
      "Shah Rukh Khan\n",
      "Soha Ali Khan\n",
      "Tusshar Kapoor\n",
      "Naseeruddin Shah\n",
      "Aryan Vaid\n",
      "Ajay Devgn\n",
      "Akanksha Puri\n",
      "Anil Kapoor\n",
      "Hemant Gopal\n",
      "Tusshar Kapoor\n",
      "Neil Nitin Mukesh\n",
      "Abhishek Bachchan\n",
      "Seema Azmi\n",
      "Atul Kulkarni\n",
      "Kavin Dave\n",
      "Saif Ali Khan\n",
      "Saayli Buva\n",
      "Aanchal Dwivedi\n",
      "Mona Ambegaonkar\n",
      "Apoorva Arora\n",
      "Akshay Kumar\n",
      "Arjun Mathur\n",
      "Vinay Virmani\n",
      "Deepika Padukone\n",
      "Shashank Arora\n",
      "Akshay Kumar\n",
      "Sanjay Dutt\n",
      "Amitabh Bachchan\n",
      "Sunil Pal\n",
      "Shreyas Talpade\n",
      "Ranbir Kapoor\n",
      "Rani Mukerji\n",
      "Radhika Apte\n",
      "Raima Sen\n",
      "Amitabh Bachchan\n",
      "Salman Khan\n",
      "Vidya Balan\n",
      "Abhishek Bachchan\n",
      "Akshay Kumar\n",
      "Akash\n",
      "Manish Chaudhary\n",
      "Jazzy Doe\n",
      "Ajay Devgn\n",
      "Kay Kay Menon\n",
      "Amitabh Bachchan\n",
      "Pulkit Samrat\n",
      "Danny Denzongpa\n",
      "Naushaad Abbas\n",
      "Irrfan Khan\n",
      "Sunny Deol\n",
      "Dino Morea\n",
      "Mischa Barton\n",
      "Amitabh Bachchan\n",
      "Amitabh Bachchan\n",
      "Jackie Shroff\n",
      "J.D. Chakravarthi\n",
      "Ajay Devgn\n",
      "Sunny Leone\n",
      "Akshay Kumar\n",
      "Ali Asgar\n",
      "Vinay Pathak\n",
      "Vinay Pathak\n",
      "Harshvardhan Kapoor\n",
      "Shaurya Singh\n",
      "Sunny Deol\n",
      "Tabu\n",
      "Akshay Kumar\n",
      "Farhan Akhtar\n",
      "Kunal Khemu\n",
      "Mugdha Godse\n",
      "Ishaan Khattar\n",
      "Ayushmann Khurrana\n",
      "Anil Kapoor\n",
      "Naseeruddin Shah\n",
      "Sunny Leone\n",
      "Rajkummar Rao\n",
      "Amitabh Bachchan\n",
      "Vaani Kapoor\n",
      "Amitabh Bachchan\n",
      "Reshmi Ghosh\n",
      "Shahid Kapoor\n",
      "Vicky Ahuja\n",
      "John Abraham\n",
      "Sadashiv Amrapurkar\n",
      "Juhi Chawla\n",
      "Bobby Deol\n",
      "Sara Loren\n",
      "Ranbir Kapoor\n",
      "Ayushmann Khurrana\n",
      "Bobby Deol\n",
      "Naseeruddin Shah\n",
      "Riteish Deshmukh\n",
      "Riteish Deshmukh\n",
      "Jacqueline Fernandez\n",
      "Hrithik Roshan\n",
      "Manisha Kelkar\n",
      "Ranveer Singh\n",
      "Urmila Matondkar\n",
      "Asrani\n",
      "Ayushmann Khurrana\n",
      "Salman Khan\n",
      "Ranveer Singh\n",
      "Tusshar Kapoor\n",
      "Amitabh Bachchan\n",
      "Varun Dhawan\n",
      "Sidhant Gupta\n",
      "Annu Kapoor\n",
      "Varun Dhawan\n",
      "Amitabh Bachchan\n",
      "Ayushmann Khurrana\n",
      "Ranbir Kapoor\n",
      "Rekha\n",
      "Manoj Babani\n",
      "Akshay Kumar\n",
      "Nawazuddin Siddiqui\n",
      "Sudha Chandran\n",
      "Sahil Anand\n",
      "Radhika Apte\n",
      "Jackie Shroff\n",
      "Anisa Butt\n",
      "Sidharth Malhotra\n",
      "Tiger Shroff\n",
      "Shraddha Kapoor\n",
      "Amitabh Bachchan\n",
      "Mithun Chakraborty\n",
      "Shadab Kamal\n",
      "Emraan Hashmi\n",
      "Emraan Hashmi\n",
      "Akshay Kumar\n",
      "Prakash Belawadi\n",
      "Arjun Kapoor\n",
      "Krishna Abhishek\n",
      "Asrani\n",
      "Arjun Rampal\n",
      "Sohail Khan\n",
      "Ayushmann Khurrana\n",
      "Amitabh Bachchan\n",
      "Yudhveer Bakoliya\n",
      "Diljit Dosanjh\n",
      "Dharmendra\n",
      "Bobby Darling\n",
      "Irrfan Khan\n",
      "Rohit Roy\n",
      "Ajay Devgn\n",
      "Nauheed Cyrusi\n",
      "Sachin Khedekar\n",
      "Sanjay Dutt\n",
      "Raj Singh Chaudhary\n",
      "Shashank Udapurkar\n",
      "Kay Kay Menon\n",
      "Sanjay Mishra\n",
      "Aftab Shivdasani\n",
      "Manisha Koirala\n",
      "Priyanka Chopra\n",
      "Sumit Arora\n",
      "Ayushmann Khurrana\n",
      "Akshay Kumar\n",
      "Akshay Kumar\n",
      "Dino Morea\n",
      "Pankaj Tripathi\n",
      "Vir Das\n",
      "Ali Asgar\n",
      "Lillete Dubey\n",
      "Aftab Shivdasani\n",
      "Bipasha Basu\n",
      "Varun Bhagwat\n",
      "Sanjay Dutt\n",
      "Rishi Kapoor\n",
      "Sukhesh Arora\n",
      "Manav Kaul\n",
      "Akshay Kapoor\n",
      "Amitabh Bachchan\n",
      "Zareen Khan\n",
      "Emraan Hashmi\n",
      "Kartik Aaryan\n",
      "Sushama Deshpande\n",
      "Ranbir Kapoor\n",
      "Jackky Bhagnani\n",
      "Rani Mukerji\n",
      "Sidharth Malhotra\n",
      "Akshay Kumar\n",
      "Yashpal Sharma\n",
      "Rati Agnihotri\n",
      "Akshay Kumar\n",
      "Abhay Deol\n",
      "Jimmy Sheirgill\n",
      "Hrithik Roshan\n",
      "Tusshar Kapoor\n",
      "Kareena Kapoor\n",
      "Amitabh Bachchan\n",
      "Ranbir Kapoor\n",
      "Rahul Dev\n",
      "Akshay Kumar\n",
      "Prabhas\n",
      "Fardeen Khan\n",
      "Farooq Shaikh\n",
      "Amitabh Bachchan\n",
      "Nana Patekar\n",
      "Sachiin Joshi\n",
      "Hrishitaa Bhatt\n",
      "Ishaan Manhaas\n",
      "Aditya Roy Kapoor\n",
      "Emraan Hashmi\n",
      "John Abraham\n",
      "Amitabh Bachchan\n",
      "Priyanshu Chatterjee\n",
      "Akshaye Khanna\n",
      "Himesh Reshammiya\n",
      "Amitabh Bachchan\n",
      "Arun Bakshi\n",
      "Shatrughan Sinha\n",
      "Omkar Das Manikpuri\n",
      "Ajay Devgn\n",
      "Paul Sidhu\n",
      "Madhuri Dixit\n",
      "Sudesh Berry\n",
      "Shreyas Talpade\n",
      "Amitabh Bachchan\n",
      "Naveen Bawa\n",
      "Govinda\n",
      "Neil Nitin Mukesh\n",
      "Prabhu Deva\n",
      "Sidharth Malhotra\n",
      "Tiger Shroff\n",
      "Jimmy Sheirgill\n",
      "Shabana Azmi\n",
      "Kiran Bhatia\n",
      "Shawar Ali\n",
      "Kunal Khemu\n",
      "Atul Kulkarni\n",
      "Juhi Chawla\n",
      "Priyanka Chopra\n",
      "Vipin Sharma\n",
      "Mouli Ganguly\n",
      "Nargis Fakhri\n",
      "Sara Arjun\n",
      "Neil Nitin Mukesh\n",
      "Akshaye Khanna\n",
      "Soha Ali Khan\n",
      "Aisha Ahmed\n",
      "Aamir Khan\n",
      "Naseeruddin Shah\n",
      "Salil Acharya\n",
      "Barun Sobti\n",
      "Babar Azam\n",
      "Manoj Bajpayee\n",
      "Vicky Ahuja\n",
      "Sharman Joshi\n",
      "Rajniesh Duggall\n"
     ]
    }
   ],
   "source": [
    "# looping \n",
    "\n",
    "for i in movie:\n",
    "    print(i)  # prints each movie title"
   ]
  },
  {
   "cell_type": "code",
   "execution_count": 138,
   "metadata": {},
   "outputs": [
    {
     "name": "stdout",
     "output_type": "stream",
     "text": [
      "Zor Lagaa Ke...Haiya!\n",
      "Zokkomon\n",
      "Zindagi Tere Naam\n",
      "Zindagi Na Milegi Dobara\n",
      "Zindagi 50-50\n",
      "Zindaggi Rocks\n",
      "Zinda (film)\n",
      "Zila Ghaziabad\n",
      "Zid (2014 film)\n",
      "Zero (2018 film)\n",
      "Zeher\n",
      "Zed Plus\n",
      "Zameer: The Fire Within\n",
      "Zameen (2003 film)\n",
      "Zamaanat\n",
      "Yuvvraaj\n",
      "Yuva\n",
      "Yun Hota Toh Kya Hota\n",
      "Youngistaan\n",
      "Yeh Saali Aashiqui\n",
      "Yeh Mera India\n",
      "Yeh Lamhe Judaai Ke\n",
      "Yeh Khula Aasmaan\n",
      "Yeh Jawaani Hai Deewani\n",
      "Yeh Hai India\n",
      "Yeh Hai Bakrapur\n",
      "Yeh Dooriyan\n",
      "Yeh Dil\n",
      "Yatra (2007 film)\n",
      "Yamla Pagla Deewana: Phir Se\n",
      "Yamla Pagla Deewana\n",
      "Yakeen (2005 film)\n",
      "Yadvi – The Dignified Princess\n",
      "Yaaram (2019 film)\n",
      "Ya Rab\n",
      "Xcuse Me\n",
      "Woodstock Villa\n",
      "Woh Lamhe...\n",
      "Why Cheat India\n",
      "What's Your Raashee?\n",
      "What the Fish\n",
      "Well Done Abba\n",
      "Welcome to Sajjanpur\n",
      "Welcome Back (film)\n",
      "Welcome 2 Karachi\n",
      "Welcome (2007 film)\n",
      "Wedding Pullav\n",
      "Wedding Anniversary\n",
      "Waris Shah: Ishq Daa Waaris\n",
      "War Chhod Na Yaar\n",
      "Waqt: The Race Against Time\n",
      "Wanted (2009 film)\n",
      "Wake Up Sid\n",
      "Wake Up India\n",
      "Wajah Tum Ho\n",
      "Waiting (2015 film)\n",
      "Waisa Bhi Hota Hai Part II\n",
      "Wah Taj\n",
      "Wafa: A Deadly Love Story\n",
      "Waarrior Savitri\n",
      "W (2014 film)\n",
      "Vodka Diaries\n",
      "Vivah\n",
      "Vishwaroopam\n",
      "Viruddh... Family Comes First\n",
      "Vidyaarthi\n",
      "Victory (2009 film)\n",
      "Vicky Donor\n",
      "Viceroy's House (film)\n",
      "Via Darjeeling\n",
      "Veerey Ki Wedding\n",
      "Veerappan (2016 film)\n",
      "Veer-Zaara\n",
      "Veer (2010 film)\n",
      "Valentine's Night\n",
      "Vaastu Shastra (film)\n",
      "Vaah! Life Ho Toh Aisi!\n",
      "Vaada Raha\n",
      "Vaada (film)\n",
      "Uvaa\n",
      "Utthaan\n",
      "Utt Pataang\n",
      "Uri: The Surgical Strike\n",
      "United Six\n",
      "Union Leader (film)\n",
      "Ungli\n",
      "Umrika\n",
      "Umrao Jaan (2006 film)\n",
      "Umar (film)\n",
      "Ujda Chaman\n",
      "Ugly (film)\n",
      "Udta Punjab\n",
      "Udaan (2010 film)\n",
      "U R My Jaan\n",
      "U Me Aur Hum\n",
      "Turning 30\n",
      "Tumsa Nahin Dekha: A Love Story\n",
      "Tumhari Sulu\n",
      "Tumbbad\n",
      "Tum Milo Toh Sahi\n",
      "Tum Mile\n",
      "Tum Bin II\n",
      "Tulsi (film)\n",
      "Tujhe Meri Kasam\n",
      "Tubelight (2017 Hindi film)\n",
      "Trump Card (film)\n",
      "Trapped (2016 Hindi film)\n",
      "Traffic Signal (film)\n",
      "Traffic (2016 film)\n",
      "Total Siyapaa\n",
      "Total Dhamaal\n",
      "Toonpur Ka Super Hero\n",
      "Tom Dick and Harry (2006 film)\n",
      "Toilet: Ek Prem Katha\n",
      "Toh Baat Pakki!\n",
      "Titoo MBA\n",
      "Titli (2014 film)\n",
      "Tiger Zinda Hai\n",
      "Thugs of Hindostan\n",
      "Thodi Life Thoda Magic\n",
      "Thoda Tum Badlo Thoda Hum\n",
      "Thoda Pyaar Thoda Magic\n",
      "Thoda Lutf Thoda Ishq\n",
      "The Zoya Factor (film)\n",
      "The Xposé\n",
      "The Train (2007 film)\n",
      "The Tashkent Files\n",
      "The Stoneman Murders\n",
      "The Sky Is Pink\n",
      "The Silent Heroes\n",
      "The Shaukeens\n",
      "The Pink Mirror\n",
      "The Namesake (film)\n",
      "The Lunchbox\n",
      "The Last Lear\n",
      "The Killer (2006 film)\n",
      "The Journey of Karma\n",
      "The Japanese Wife\n",
      "The Hero: Love Story of a Spy\n",
      "The Ghazi Attack\n",
      "The Final Exit\n",
      "The Film Emotional Atyachar\n",
      "The Film\n",
      "The Dirty Picture\n",
      "The Bypass\n",
      "The Blueberry Hunt\n",
      "The Blue Umbrella (2005 film)\n",
      "The Accidental Prime Minister (film)\n",
      "Thanks Maa\n",
      "Thank You (2011 film)\n",
      "Thackeray (film)\n",
      "Tezz\n",
      "Tevar\n",
      "Teri Meri Kahaani (film)\n",
      "Tere Naam\n",
      "Tere Naal Love Ho Gaya\n",
      "Tere Mere Phere\n",
      "Tere Bin Laden: Dead or Alive\n",
      "Tere Bin Laden\n",
      "Tera Kya Hoga Johnny\n",
      "Tell Me O Kkhuda\n",
      "Tehzeeb (2003 film)\n",
      "Teesri Aankh: The Hidden Camera\n",
      "Tees Maar Khan (2010 film)\n",
      "Teen Thay Bhai\n",
      "Teen Patti (film)\n",
      "Te3n\n",
      "Taxi No. 9211\n",
      "Tathastu\n",
      "Tashan (film)\n",
      "Tanu Weds Manu: Returns\n",
      "Tanu Weds Manu: Returns\n",
      "Tanu Weds Manu\n",
      "Tango Charlie\n",
      "Tamanchey\n",
      "Talvar (film)\n",
      "Talaash: The Hunt Begins...\n",
      "Talaash: The Answer Lies Within\n",
      "Take It Easy (2015 film)\n",
      "Taj Mahal: An Eternal Love Story\n",
      "Tahaan\n",
      "Table No. 21\n",
      "Taarzan: The Wonder Car\n",
      "Taare Zameen Par\n",
      "Ta Ra Rum Pum\n",
      "Sweetiee Weds NRI\n",
      "Swami (2007 film)\n",
      "Swades\n",
      "Super Nani\n",
      "Super Model (film)\n",
      "Super 30 (film)\n",
      "Suno Sasurjee\n",
      "Sunglass (film)\n",
      "Sunday (2008 film)\n",
      "Summer 2007\n",
      "Sultan (2016 film)\n",
      "Sulemani Keeda\n",
      "Sukhmani: Hope for Life\n",
      "Sui Dhaaga\n",
      "Stumped (film)\n",
      "Student of the Year 2\n",
      "Student of the Year\n",
      "Strings of Passion\n",
      "Striker (2010 film)\n",
      "Stree (2018 film)\n",
      "Strangers (2007 Hindi film)\n",
      "Staying Alive (2012 film)\n",
      "Station (2014 film)\n",
      "Stanley Ka Dabba\n",
      "Ssukh\n",
      "Sssshhh...\n",
      "Speed (2007 film)\n",
      "Special 26\n",
      "Spark (2014 film)\n",
      "Souten: The Other Woman\n",
      "Sorry Daddy\n",
      "Sorry Bhai!\n",
      "Sooper Se Ooper\n",
      "Sonu Ke Titu Ki Sweety\n",
      "Sons of Ram\n",
      "Soni (film)\n",
      "Sonchiriya\n",
      "Sonali Cable\n",
      "Son of Sardaar\n",
      "Socha Na Tha\n",
      "Soch Lo\n",
      "Sixteen (2013 Indian film)\n",
      "Sirf (film)\n",
      "Singham Returns\n",
      "Singham\n",
      "Singh Saab the Great\n",
      "Singh Is Kinng\n",
      "Singh Is Bliing\n",
      "Simran (film)\n",
      "Simmba\n",
      "Silsiilay\n",
      "Sikandar (2009 film)\n",
      "Siddharth (2013 film)\n",
      "Shukriya: Till Death Do Us Apart\n",
      "Shuddh Desi Romance\n",
      "Shubh Mangal Saavdhan\n",
      "Showbiz (film)\n",
      "Shortkut\n",
      "Shortcut Safari\n",
      "Shortcut Romeo\n",
      "Shorgul\n",
      "Shor in the City\n",
      "Shootout at Lokhandwala\n",
      "Sholay\n",
      "Shivaay\n",
      "Shiva (2006 film)\n",
      "Shirin Farhad Ki Toh Nikal Padi\n",
      "Ship of Theseus (film)\n",
      "Shikhar (film)\n",
      "Sheesha (2005 film)\n",
      "Sheen (film)\n",
      "Shart: The Challenge\n",
      "Sharafat Gayi Tel Lene\n",
      "Shanghai (2012 film)\n",
      "Shamitabh\n",
      "Shakalaka Boom Boom\n",
      "Shaitan (film)\n",
      "Shahid (film)\n",
      "Shagird (2011 film)\n",
      "Shabri\n",
      "Shabnam Mausi\n",
      "Shabd (film)\n",
      "Shab (film)\n",
      "Shaapit\n",
      "Shaandaar\n",
      "Shaadi Se Pehle\n",
      "Shaadi No. 1\n",
      "Shaadi Mein Zaroor Aana\n",
      "Shaadi Ke Side Effects\n",
      "Shaadi Karke Phas Gaya Yaar\n",
      "Shaadi Ka Laddoo\n",
      "Setters (film)\n",
      "Sehar\n",
      "Section 375\n",
      "Secret Superstar\n",
      "Second Hand Husband\n",
      "Say Salaam India\n",
      "Satyameva Jayate (2018 film)\n",
      "Satyagraha (film)\n",
      "Satya 2\n",
      "Satta (film)\n",
      "Satrangee Parachute\n",
      "Satellite Shankar\n",
      "Sarkar Raj\n",
      "Sarkar 3\n",
      "Sarkar (2005 film)\n",
      "Sarhad Paar\n",
      "Sarbjit (film)\n",
      "Santa Banta Pvt Ltd\n",
      "Sankat City\n",
      "Sanju\n",
      "Sandwich (2006 film)\n",
      "Sanam Re\n",
      "Samrat & Co.\n",
      "Samay: When Time Strikes\n",
      "Sallu Ki Shaadi\n",
      "Salaam-e-Ishq: A Tribute to Love\n",
      "Salaam Namaste\n",
      "Sahi Dhandhe Galat Bande\n",
      "Saheb Biwi Aur Gangster Returns\n",
      "Saheb Biwi Aur Gangster 3\n",
      "Saheb Biwi Aur Gangster\n",
      "Sadiyaan\n",
      "Sadda Adda\n",
      "Sacred Evil – A True Story\n",
      "Sachin: A Billion Dreams\n",
      "Sabki Bajegi Band\n",
      "Saaya (2003 film)\n",
      "Saawariya\n",
      "Saawan... The Love Season\n",
      "Saathiya (film)\n",
      "Saat Uchakkey\n",
      "Saas Bahu Aur Sensex\n",
      "Saare Jahaan Se Mehnga\n",
      "Saansein\n",
      "Saankal\n",
      "Saand Ki Aankh\n",
      "Saaho\n",
      "Rustom (film)\n",
      "Rush (2012 film)\n",
      "Running Shaadi\n",
      "Run (2004 film)\n",
      "Rules: Pyaar Ka Superhit Formula\n",
      "Rukh (film)\n",
      "Rudraksh (film)\n",
      "Roy (film)\n",
      "Rough Book\n",
      "Rokkk\n",
      "Rok Sako To Rok Lo\n",
      "Rog\n",
      "Rocky Handsome\n",
      "Rockstar (2011 film)\n",
      "Rocket Singh: Salesman of the Year\n",
      "Rock On!!\n",
      "Rock On 2\n",
      "Roar: Tigers of the Sundarbans\n",
      "Roadside Romeo\n",
      "Road to Sangam\n",
      "Riyasat (film)\n",
      "Risknamaa\n",
      "Risk (2007 film)\n",
      "Right Yaaa Wrong\n",
      "Right Here Right Now (film)\n",
      "Ribbon (film)\n",
      "Revolver Rani\n",
      "Revati (film)\n",
      "Red: The Dark Side\n",
      "Red Swastik\n",
      "Red Alert: The War Within\n",
      "Rebellious Flower\n",
      "Rascals (2011 film)\n",
      "Raqeeb\n",
      "Rann (film)\n",
      "Rangrezz\n",
      "Rangoon (2017 Hindi film)\n",
      "Rang Rasiya\n",
      "Rang De Basanti\n",
      "Ranchi Diaries\n",
      "Ranbanka\n",
      "Ramprasad Ki Tehrvi\n",
      "Ramji Londonwaley\n",
      "Ramayana: The Epic\n",
      "Raman Raghav 2.0\n",
      "Ramaiya Vastavaiya\n",
      "Ramaa: The Saviour\n",
      "Rakhtbeej\n",
      "Rakht\n",
      "Rajma Chawal\n",
      "Rajjo\n",
      "Raja Natwarlal\n",
      "Raja Bhaiya (film)\n",
      "Raincoat (film)\n",
      "Raid (2018 film)\n",
      "Rahasya\n",
      "Ragini MMS 2\n",
      "Ragini MMS\n",
      "Raghu Romeo\n",
      "Raees (film)\n",
      "Race 3\n",
      "Race 2\n",
      "Race (2008 film)\n",
      "Rab Ne Bana Di Jodi\n",
      "Raazi\n",
      "Raaz: The Mystery Continues\n",
      "Raaz: Reboot\n",
      "Raaz (2002 film)\n",
      "Raavan\n",
      "Raat Gayi Baat Gayi?\n",
      "Raanjhanaa\n",
      "Raag Desh (film)\n",
      "Raabta (film)\n",
      "Ra.One\n",
      "Quick Gun Murugun\n",
      "Queen (2014 film)\n",
      "Qissa (film)\n",
      "Qayamat: City Under Threat\n",
      "Qarib Qarib Singlle\n",
      "Qaidi Band\n",
      "Pyare Mohan\n",
      "Pyaar Mein Twist\n",
      "Pyaar Ke Side Effects\n",
      "Pyaar Ka Punchnama 2\n",
      "Pyaar Ka Punchnama\n",
      "Pyaar Impossible!\n",
      "Purani Jeans\n",
      "Prince (2010 film)\n",
      "Prem Ratan Dhan Payo\n",
      "Prem Kaa Game\n",
      "Prateeksha\n",
      "Prassthanam\n",
      "Pranaam\n",
      "Prague (2013 film)\n",
      "Praan Jaye Par Shaan Na Jaye\n",
      "Poster Boys\n",
      "Popcorn Khao! Mast Ho Jao\n",
      "Policegiri\n",
      "Police Force: An Inside Story\n",
      "Players (2012 film)\n",
      "Plan (film)\n",
      "Pizza (2014 film)\n",
      "Pink (2016 film)\n",
      "Pinjar (film)\n",
      "Piku\n",
      "Pihu\n",
      "Photograph (film)\n",
      "Phoonk 2\n",
      "Phobia (2016 film)\n",
      "Phir Milenge\n",
      "Phir Kabhi\n",
      "Phir Hera Pheri\n",
      "Phillauri (film)\n",
      "Phhir\n",
      "Phata Poster Nikhla Hero\n",
      "Phas Gaye Re Obama\n",
      "Phantom (2015 film)\n",
      "Phamous\n",
      "Pehchaan: The Face of Truth\n",
      "Peepli Live\n",
      "Paying Guests\n",
      "Patiala House (film)\n",
      "Pati Patni Aur Woh (2019 film)\n",
      "Patel Ki Punjabi Shaadi\n",
      "Pataakha\n",
      "Parwana (2003 film)\n",
      "Partner (2007 film)\n",
      "Parmanu: The Story of Pokhran\n",
      "Parineeta (2005 film)\n",
      "Parched\n",
      "Paranthe Wali Gali\n",
      "Pankh\n",
      "Panchlait\n",
      "Paltan (film)\n",
      "Pal Pal Dil Ke Paas\n",
      "Paisa Vasool\n",
      "Paheli\n",
      "Page 3 (film)\n",
      "Pagalpanti (2019 film)\n",
      "Padmashree Laloo Prasad Yadav\n",
      "Padmaavat\n",
      "Paathshaala\n",
      "Paap\n",
      "Paanch Ghantey Mien Paanch Crore\n",
      "Paan Singh Tomar (film)\n",
      "Paa (film)\n",
      "PM Narendra Modi\n",
      "PK (film)\n",
      "P Se Pyaar F Se Faraar\n",
      "P Se PM Tak\n",
      "Oye Lucky! Lucky Oye!\n",
      "Out of Control (2003 film)\n",
      "One by Two (2014 film)\n",
      "One Two Three\n",
      "One Day: Justice Delivered\n",
      "Once Upon ay Time in Mumbai Dobaara!\n",
      "Once Upon a Time in Mumbaai\n",
      "Omkara (2006 film)\n",
      "Omerta (film)\n",
      "Om-Dar-B-Dar\n",
      "Om Shanti Om\n",
      "Om (2003 film)\n",
      "Ok Jaanu\n",
      "Oh My God (2008 film)\n",
      "October (2018 film)\n",
      "OMG – Oh My God!\n",
      "O Teri\n",
      "Nothing but Life\n",
      "Notebook (2019 film)\n",
      "Not a Love Story (2011 film)\n",
      "Noor (film)\n",
      "No Smoking (2007 film)\n",
      "No Problem (2010 film)\n",
      "No One Killed Jessica\n",
      "No Entry\n",
      "Nishabd\n",
      "Nirdosh\n",
      "Nil Battey Sannata\n",
      "Newton (film)\n",
      "New York (2009 film)\n",
      "Netaji Subhas Chandra Bose: The Forgotten Hero\n",
      "Nehlle Pe Dehlla\n",
      "Neerja\n",
      "Neal 'n' Nikki\n",
      "Nayee Padosan\n",
      "Nawabzaade\n",
      "Nautanki Saala!\n",
      "Naughty @ 40\n",
      "Nasha (film)\n",
      "Naqaab\n",
      "Nanu Ki Jaanu\n",
      "Nanhe Jaisalmer\n",
      "Namastey London\n",
      "Namaste England\n",
      "Naksha\n",
      "Naina (2005 film)\n",
      "Naam Shabana\n",
      "Naach (2004 film)\n",
      "Na Ghar Ke Na Ghaat Ke\n",
      "NH10 (film)\n",
      "NH-8 Road to Nidhivan\n",
      "My Wife's Murder\n",
      "My Name Is Khan\n",
      "My Friend Pinto\n",
      "My Brother…Nikhil\n",
      "My Bollywood Bride\n",
      "My Birthday Song\n",
      "Muskaan\n",
      "Musafir (2004 film)\n",
      "Murder 3\n",
      "Murder 2\n",
      "Murder (2004 film)\n",
      "Murari the Mad Gentleman\n",
      "Munna Michael\n",
      "Munna Bhai M.B.B.S.\n",
      "Mummy Punjabi\n",
      "Mumbhai Connection\n",
      "Mumbai Se Aaya Mera Dost\n",
      "Mumbai Salsa\n",
      "Mumbai Meri Jaan\n",
      "Mumbai Matinee\n",
      "Mumbai Mast Kallander\n",
      "Mumbai Delhi Mumbai\n",
      "Mumbai Can Dance Saala\n",
      "Mumbai 125 KM\n",
      "Mulk (film)\n",
      "Mukkabaaz\n",
      "Mukhbiir\n",
      "Mujhse Shaadi Karogi\n",
      "Mujhse Fraaandship Karoge\n",
      "Mughal-e-Azam\n",
      "Mubarakan\n",
      "Mr. X (2015 film)\n",
      "Mr. Singh Mrs. Mehta\n",
      "Mr. Bhatti on Chutti\n",
      "Mr Prime Minister\n",
      "Motu Patlu: King of Kings\n",
      "Motichoor Chaknachoor\n",
      "Morning Raga\n",
      "Monsoon Shootout\n",
      "Monica (film)\n",
      "Money Hai Toh Honey Hai\n",
      "Mom (film)\n",
      "Mohenjo Daro (film)\n",
      "Mohalla Assi\n",
      "Moh Maya Money\n",
      "Mittal v/s Mittal\n",
      "Mitron\n",
      "Mission Mangal\n",
      "Mission Istaanbul\n",
      "Missing (2018 film)\n",
      "Miss Tanakpur Haazir Ho\n",
      "Mirzya (film)\n",
      "Mirch\n",
      "Miley Naa Miley Hum\n",
      "Milenge Milenge\n",
      "Mickey Virus\n",
      "Meri Pyaari Bindu\n",
      "Meri Biwi Ka Jawaab Nahin\n",
      "Mere Pyare Prime Minister\n",
      "Mere Jeevan Saathi (2006 film)\n",
      "Mere Genie Uncle\n",
      "Mere Dost Picture Abhi Baki Hai\n",
      "Mere Dad Ki Maruti\n",
      "Mere Brother Ki Dulhan\n",
      "Mere Baap Pehle Aap\n",
      "Mercury (film)\n",
      "Memories in March\n",
      "Meinu Ek Ladki Chaahiye\n",
      "Meeruthiya Gangsters\n",
      "Meerabai Not Out\n",
      "Meenaxi: A Tale of Three Cities\n",
      "Maximum (film)\n",
      "Mausam (2011 film)\n",
      "Matrubhoomi\n",
      "Matru Ki Bijlee Ka Mandola\n",
      "Mastram\n",
      "Mastizaade\n",
      "Masti (2004 film)\n",
      "Masaan\n",
      "Mary Kom (film)\n",
      "Married 2 America\n",
      "Market (2003 film)\n",
      "Marjaavaan\n",
      "Marigold (2007 film)\n",
      "Margarita with a Straw\n",
      "Mardaani 2\n",
      "Mardaani\n",
      "Mard Ko Dard Nahi Hota\n",
      "Maqbool\n",
      "Mantra (2016 film)\n",
      "Manto (2018 film)\n",
      "Manorama Six Feet Under\n",
      "Manmarziyaan\n",
      "Manjunath (film)\n",
      "Manjhi – The Mountain Man\n",
      "Manikarnika: The Queen of Jhansi\n",
      "Mangal Pandey: The Rising\n",
      "Malik Ek\n",
      "Malamaal Weekly\n",
      "Maine Pyaar Kyun Kiya?\n",
      "Maine Gandhi Ko Nahin Mara\n",
      "Main Tera Hero\n",
      "Main Prem Ki Diwani Hoon\n",
      "Main Meri Patni Aur Woh\n",
      "Main Madhuri Dixit Banna Chahti Hoon\n",
      "Main Krishna Hoon\n",
      "Main Hoon Part-Time Killer\n",
      "Main Hoon Na\n",
      "Main Aurr Mrs Khanna\n",
      "Main Aur Mr. Riight\n",
      "Main Aisa Hi Hoon\n",
      "Mai (2013 film)\n",
      "Magic Magic 3D\n",
      "Madras Cafe\n",
      "Madhoshi\n",
      "Made in China (2019 film)\n",
      "Madaari\n",
      "Mad About Dance\n",
      "Machine (2017 film)\n",
      "Machhli Jal Ki Rani Hai\n",
      "Maazii\n",
      "Maatr\n",
      "Maan Gaye Mughal-e-Azam\n",
      "MSG: The Warrior Lion Heart\n",
      "MSG: The Messenger\n",
      "MSG-2 The Messenger\n",
      "MP3: Mera Pehla Pehla Pyaar\n",
      "M.S. Dhoni: The Untold Story\n",
      "M Cream\n",
      "Luv U Soniyo\n",
      "Luv U Alia\n",
      "Lucky: No Time for Love\n",
      "Lucky Kabootar\n",
      "Lucknow Central\n",
      "Luckhnowi Ishq\n",
      "Luck by Chance\n",
      "Luck (2009 film)\n",
      "Loveshhuda\n",
      "Love per Square Foot\n",
      "Love in Bombay\n",
      "Love U...Mr. Kalakaar!\n",
      "Love Story 2050\n",
      "Love Sonia\n",
      "Love Shagun\n",
      "Love Sex Aur Dhokha\n",
      "Love Ke Chakkar Mein\n",
      "Love Games (film)\n",
      "Love Breakups Zindagi\n",
      "Love Aaj Kal\n",
      "Lootera\n",
      "London Dreams\n",
      "Loins of Punjab Presents\n",
      "Login (film)\n",
      "Little Zizou\n",
      "Listen... Amaya\n",
      "Lipstick Under My Burkha\n",
      "Life in a... Metro\n",
      "Life Partner\n",
      "Life Mein Kabhie Kabhiee\n",
      "Life Ki Toh Lag Gayi\n",
      "Life Is Beautiful (2014 film)\n",
      "Life Express (2010 film)\n",
      "Lekar Hum Deewana Dil\n",
      "Lamhaa\n",
      "Lakshya (film)\n",
      "Lakshmi (2014 film)\n",
      "Lakeer – Forbidden Lines\n",
      "Laila Majnu (2018 film)\n",
      "Lahore (film)\n",
      "Lage Raho Munna Bhai\n",
      "Lafangey Parindey\n",
      "Ladies vs Ricky Bahl\n",
      "Laal Rang\n",
      "Laaga Chunari Mein Daag\n",
      "LOC Kargil\n",
      "Kyun! Ho Gaya Na...\n",
      "Kyon Ki\n",
      "Kyaa Super Kool Hain Hum\n",
      "Kyaa Kool Hain Hum 3\n",
      "Kyaa Kool Hai Hum\n",
      "Kya Love Story Hai\n",
      "Kya Dilli Kya Lahore\n",
      "Kushti (film)\n",
      "Kurbaan (2009 film)\n",
      "Kuku Mathur Ki Jhand Ho Gayi\n",
      "Kudiyon Ka Hai Zamana\n",
      "Kuchh Meetha Ho Jaye\n",
      "Kuchh Bheege Alfaaz\n",
      "Kuch Naa Kaho\n",
      "Kuch Kuch Locha Hai\n",
      "Kucch To Hai\n",
      "Kucch Luv Jaisaa\n",
      "Krrish\n",
      "Krishna Cottage\n",
      "Krishna Aur Kans\n",
      "Krazzy 4\n",
      "Koyelaanchal\n",
      "Koi... Mil Gaya\n",
      "Koi Mere Dil Mein Hai\n",
      "Koi Aap Sa\n",
      "Knock Out (2010 film)\n",
      "Kites (film)\n",
      "Kisse Pyaar Karoon\n",
      "Kisna: The Warrior Poet\n",
      "Kismat Love Paisa Dilli\n",
      "Kismat Konnection\n",
      "Kismat (2004 film)\n",
      "Kisaan\n",
      "Kis Kisko Pyaar Karoon\n",
      "Kis Kis Ki Kismat\n",
      "Kill Dil\n",
      "Kick (2014 film)\n",
      "Ki & Ka\n",
      "Khwahish\n",
      "Khwaabb\n",
      "Khushi (2003 Hindi film)\n",
      "Khuda Kasam\n",
      "Khoya Khoya Chand\n",
      "Khosla Ka Ghosla\n",
      "Khoobsurat (2014 film)\n",
      "Khichdi: The Movie\n",
      "Khel – No Ordinary Game\n",
      "Khel Toh Ab Shuru Hoga\n",
      "Khatta Meetha (2010 film)\n",
      "Khap (film)\n",
      "Khamoshiyan\n",
      "Khamoshi (2019 film)\n",
      "Khamoshh... Khauff Ki Raat\n",
      "Khamosh Pani\n",
      "Khakee\n",
      "Khajoor Pe Atke\n",
      "Kesari (film)\n",
      "Keep Safe Distance (film)\n",
      "Kaun Kitne Paani Mein\n",
      "Kaun Hai Jo Sapno Mein Aaya\n",
      "Katti Batti\n",
      "Kash Aap Hamare Hote\n",
      "Kasak (2005 film)\n",
      "Karzzzz\n",
      "Karwaan\n",
      "Karthik Calling Karthik\n",
      "Karma Aur Holi\n",
      "Karle Pyaar Karle\n",
      "Karar: The Deal\n",
      "Karam (film)\n",
      "Kapoor & Sons\n",
      "Kaminey\n",
      "Kalyug (2005 film)\n",
      "Kalank\n",
      "Kal Ho Naa Ho\n",
      "Kaise Kahoon Ke... Pyaar Hai\n",
      "Kai Po Che!\n",
      "Kahin Hai Mera Pyar\n",
      "Kahaani\n",
      "Kagaar: Life on the Edge\n",
      "Kadvi Hawa\n",
      "Kabul Express\n",
      "Kabir Singh\n",
      "Kabhi Alvida Naa Kehna\n",
      "Kaashi in Search of Ganga\n",
      "Kaante\n",
      "Kaanchi: The Unbreakable\n",
      "Kaalo\n",
      "Kaalakaandi\n",
      "Kaal (2005 film)\n",
      "Kaagaz Ke Fools\n",
      "Kaabil\n",
      "Just Married (2007 film)\n",
      "Jurm (2005 film)\n",
      "Junooniyat\n",
      "Junglee (2019 film)\n",
      "Julie 2\n",
      "Julie (2004 film)\n",
      "Jugni (2016 film)\n",
      "Judwaa 2\n",
      "Judgementall Hai Kya\n",
      "Jolly LLB\n",
      "Joker (2012 film)\n",
      "Johnny Gaddaar\n",
      "John Day (film)\n",
      "Joggers' Park (film)\n",
      "Jodi Breakers\n",
      "Jodhaa Akbar\n",
      "Jo Hum Chahein\n",
      "Jo Bole So Nihaal (film)\n",
      "Jism (2003 film)\n",
      "Jimmy (2008 film)\n",
      "Jigyaasa\n",
      "Jigariyaa\n",
      "Jia Aur Jia\n",
      "Jhootha Kahin Ka\n",
      "Jhootha Hi Sahi\n",
      "Jhoom Barabar Jhoom\n",
      "Jhankaar Beats\n",
      "Jhalki\n",
      "Jeena Isi Ka Naam Hai (film)\n",
      "Jeena Hai Toh Thok Daal\n",
      "Jazbaa\n",
      "Jayantabhai Ki Luv Story\n",
      "Jawani Diwani: A Youthful Joyride\n",
      "Jattu Engineer\n",
      "Jannat (film)\n",
      "Janasheen\n",
      "James (2005 film)\n",
      "Jalpari: The Desert Mermaid\n",
      "Jalebi (film)\n",
      "Jal (film)\n",
      "Jajantaram Mamantaram\n",
      "Jail (2009 film)\n",
      "Jai Veeru\n",
      "Jai Jawaan Jai Kisaan (film)\n",
      "Jai Ho (film)\n",
      "Jai Gangaajal\n",
      "Jai Chiranjeeva\n",
      "Jahan Jaaeyega Hamen Paaeyega\n",
      "Jagga Jasoos\n",
      "Jackpot (2013 film)\n",
      "Jack and Dil\n",
      "Jabariya Jodi\n",
      "Jab We Met\n",
      "Jab Tak Hai Jaan\n",
      "Jab Harry Met Sejal\n",
      "Jaane Kyun De Yaaron\n",
      "Jaane Kahan Se Aayi Hai\n",
      "Jaane Hoga Kya\n",
      "Jaan-E-Mann\n",
      "Jaal: The Trap\n",
      "JD (film)\n",
      "It's a Wonderful Afterlife\n",
      "Issaq\n",
      "Island City (2015 film)\n",
      "Isi Life Mein\n",
      "Ishqiya\n",
      "Ishqeria\n",
      "Ishqedarriyaan\n",
      "Ishq Vishk\n",
      "Ishq Ke Parindey\n",
      "Ishq Hai Tumse\n",
      "Ishq Forever\n",
      "Ishq Click\n",
      "Ishkq in Paris\n",
      "Ishaqzaade\n",
      "Irudhi Suttru\n",
      "Irada (2017 film)\n",
      "Iqraar by Chance\n",
      "Iqbal (film)\n",
      "Inteqam: The Perfect Game\n",
      "Inteha (2003 film)\n",
      "Insan\n",
      "Insaaf: The Justice\n",
      "Inkaar (2013 film)\n",
      "Indu Sarkar\n",
      "Indian Babu\n",
      "India's Most Wanted (film)\n",
      "Impatient Vivek\n",
      "I See You (2006 film)\n",
      "I Proud to Be an Indian\n",
      "I Love NY (2015 film)\n",
      "I Love Desi\n",
      "I Hate Luv Storys\n",
      "I Am Kalam\n",
      "I Am (2010 Indian film)\n",
      "Hyderabad Blues 2\n",
      "Hunterrr\n",
      "Hungama (2003 film)\n",
      "Humshakals\n",
      "Humpty Sharma Ki Dulhania\n",
      "Humne Jeena Seekh Liya\n",
      "Humko Tumse Pyaar Hai\n",
      "Humko Deewana Kar Gaye\n",
      "Hume Tumse Pyaar Kitna\n",
      "Hum Tumhare Hain Sanam\n",
      "Hum Tum Shabana\n",
      "Hum Tum Aur Ghost\n",
      "Hum Tum\n",
      "Hum Hai Raahi Car Ke\n",
      "Hum Chaar\n",
      "Hulchul (2004 film)\n",
      "Housefull 4\n",
      "Housefull 2\n",
      "Housefull (2010 film)\n",
      "Hotel Salvation\n",
      "Hostel (2011 film)\n",
      "Horror Story (film)\n",
      "Hope Aur Hum\n",
      "Honour Killing (film)\n",
      "Honeymoon Travels Pvt. Ltd.\n",
      "Home Delivery\n",
      "Holiday: A Soldier Is Never Off Duty\n",
      "Holiday (2006 film)\n",
      "Hisss\n",
      "Hindi Medium\n",
      "Hind Ka Napak Ko Jawab: MSG Lion Heart 2\n",
      "Himmatwala (2013 film)\n",
      "Highway (2014 Hindi film)\n",
      "High Jack (film)\n",
      "Hichki\n",
      "Heyy Babyy\n",
      "Hey Bro\n",
      "Heropanti\n",
      "Heroine (2012 film)\n",
      "Heroes (2008 film)\n",
      "Hero (2015 Hindi film)\n",
      "Help (film)\n",
      "Hello Darling\n",
      "Hello (2008 film)\n",
      "Helicopter Eela\n",
      "Heartless (2014 film)\n",
      "Hazaaron Khwaishein Aisi\n",
      "Hawayein\n",
      "Hawas (2004 film)\n",
      "Hawaizaada\n",
      "Hawaa Hawaai\n",
      "Hawa (film)\n",
      "Hava Aney Dey\n",
      "Haunted – 3D\n",
      "Hatya (2004 film)\n",
      "Hattrick (film)\n",
      "Hate Story 4\n",
      "Hate Story 2\n",
      "Hate Story\n",
      "Hastey Hastey\n",
      "Haseena Parkar\n",
      "Hasee Toh Phasee\n",
      "Hari Puttar: A Comedy of Terrors\n",
      "Haraamkhor\n",
      "Happy Phirr Bhag Jayegi\n",
      "Happy New Year (2014 film)\n",
      "Happy Husbands (2011 film)\n",
      "Happy Ending (film)\n",
      "Happy Bhag Jayegi\n",
      "Hanuman (2005 film)\n",
      "Hamid (film)\n",
      "Hamari Adhuri Kahani\n",
      "Halla Bol\n",
      "Halkaa\n",
      "Half Girlfriend (film)\n",
      "Haider (film)\n",
      "Hai Apna Dil Toh Awara\n",
      "Haasil\n",
      "Haal-e-Dil\n",
      "Guzaarish (film)\n",
      "Guru (2007 film)\n",
      "Gunday\n",
      "Gumnaam – The Mystery\n",
      "Gully Boy\n",
      "Gulabi Gang (film)\n",
      "Gulaal (film)\n",
      "Gulaab Gang\n",
      "Guest iin London\n",
      "Guddu Rangeela\n",
      "Guddu Ki Gun\n",
      "Green Card Fever\n",
      "Great Grand Masti\n",
      "Grand Masti\n",
      "Gour Hari Dastaan\n",
      "Gori Tere Pyaar Mein\n",
      "Good Newwz\n",
      "Good Boy Bad Boy\n",
      "Gone Kesh\n",
      "Golmaal: Fun Unlimited\n",
      "Golmaal Returns\n",
      "Golmaal Again\n",
      "Gollu Aur Pappu\n",
      "Goliyon Ki Raasleela Ram-Leela\n",
      "Gold (2018 film)\n",
      "God Tussi Great Ho\n",
      "Goal (2007 Hindi film)\n",
      "Go Goa Gone\n",
      "Go (2007 film)\n",
      "Global Baba\n",
      "Girlfriend (2004 film)\n",
      "Gippi\n",
      "Ghost (2019 film)\n",
      "Ghost (2012 film)\n",
      "Ghayal: Once Again\n",
      "Ghanchakkar (film)\n",
      "Ghajini (2008 film)\n",
      "Genius (2018 Hindi film)\n",
      "Gayab\n",
      "Gauri: The Unborn\n",
      "Gattu\n",
      "Garv: Pride & Honour\n",
      "Garam Masala (2005 film)\n",
      "Gangster (2006 film)\n",
      "Gangs of Wasseypur – Part 2\n",
      "Gangs of Wasseypur\n",
      "Gangoobai\n",
      "Gangaajal\n",
      "Gang of Ghosts\n",
      "Gandhi My Father\n",
      "Game (2011 film)\n",
      "Gali Guleiyan\n",
      "Gabbar Is Back\n",
      "Gabbar Is Back\n",
      "G Kutta Se\n",
      "Fun2shh... Dudes in the 10th Century\n",
      "Fun – Can Be Dangerous Sometimes\n",
      "Fukrey Returns\n",
      "Fukrey\n",
      "Fugly (film)\n",
      "Fuddu\n",
      "FryDay\n",
      "Fruit and Nut (film)\n",
      "From Sydney with Love\n",
      "Fredrick (film)\n",
      "Freaky Ali\n",
      "Fraud Saiyaan\n",
      "Fox (film)\n",
      "Force 2\n",
      "Force (2011 film)\n",
      "Footpath (2003 film)\n",
      "Fool & Final\n",
      "Flavors (film)\n",
      "Flat 211\n",
      "Fitoor\n",
      "Firangi\n",
      "Firaaq\n",
      "Finding Fanny\n",
      "Filmistaan\n",
      "Fight Club – Members Only\n",
      "Fida\n",
      "Fever (2016 film)\n",
      "Ferrari Ki Sawaari\n",
      "Fatso!\n",
      "Fashion (2008 film)\n",
      "Fareb (2005 film)\n",
      "Fanaa (2006 film)\n",
      "Fan (film)\n",
      "Familywala\n",
      "Family of Thakurganj\n",
      "Family (2006 film)\n",
      "F.A.L.T.U\n",
      "Evening Shadows\n",
      "Escape from Taliban\n",
      "Entertainment (2014 film)\n",
      "English Vinglish\n",
      "Enemmy\n",
      "Elaan (2005 film)\n",
      "Eklavya: The Royal Guard\n",
      "Ekkees Toppon Ki Salaami\n",
      "Ekk Deewana Tha\n",
      "Ek: The Power of One\n",
      "Ek Vivaah... Aisa Bhi\n",
      "Ek Villain\n",
      "Ek Thi Rani Aisi Bhi\n",
      "Ek Thi Daayan\n",
      "Ek Tha Tiger\n",
      "Ek Second... Jo Zindagi Badal De?\n",
      "Ek Se Bure Do\n",
      "Ek Se Badhkar Ek (2004 film)\n",
      "Ek Paheli Leela\n",
      "Ek Main Aur Ekk Tu\n",
      "Ek Khiladi Ek Haseena (film)\n",
      "Ek Kahani Julie Ki\n",
      "Ek Hasina Thi (film)\n",
      "Ek Haseena Thi Ek Deewana Tha\n",
      "Ek Din 24 Ghante\n",
      "Ek Chalis Ki Last Local\n",
      "Ek Aur Ek Gyarah\n",
      "Ek Alag Mausam\n",
      "Ek Ajnabee\n",
      "Eight: The Power of Shani\n",
      "Dus Kahaniyaan\n",
      "Dus\n",
      "Dunno Y... Na Jaane Kyon\n",
      "Dum Maaro Dum (film)\n",
      "Dum Laga Ke Haisha\n",
      "Dum (2003 Hindi film)\n",
      "Dulha Mil Gaya\n",
      "Dude Where's the Party?\n",
      "Drona (2008 film)\n",
      "Drishyam (2015 film)\n",
      "Dreams (2006 film)\n",
      "Dream Girl (2019 film)\n",
      "Double Dhamaal\n",
      "Double Cross (2005 film)\n",
      "Dosti: Friends Forever\n",
      "Dostana (2008 film)\n",
      "Dor (film)\n",
      "Dongari Ka Raja\n",
      "Don't Stop Dreaming\n",
      "Don Muthu Swami\n",
      "Don 2\n",
      "Don (2006 Hindi film)\n",
      "Dolly Ki Doli\n",
      "Dobara\n",
      "Dobaara: See Your Evil\n",
      "Do Lafzon Ki Kahani (film)\n",
      "Do Dooni Chaar\n",
      "Dishoom\n",
      "Dishkiyaoon\n",
      "Dirty Politics (film)\n",
      "Direct Ishq\n",
      "Dilwale (2015 film)\n",
      "Dilliwali Zaalim Girlfriend\n",
      "Dil Toh Deewana Hai\n",
      "Dil Toh Baccha Hai Ji\n",
      "Dil Pardesi Ho Gayaa\n",
      "Dil Ne Jise Apna Kahaa\n",
      "Dil Maange More\n",
      "Dil Kabaddi\n",
      "Dil Ka Rishta\n",
      "Dil Juunglee\n",
      "Dil Jo Na Keh Saka\n",
      "Dil Jo Bhi Kahey...\n",
      "Dil Dosti Etc\n",
      "Dil Diya Hai\n",
      "Dil Dhadakne Do\n",
      "Dil Bole Hadippa!\n",
      "Dil Bechara Pyaar Ka Maara\n",
      "Dil Bechara\n",
      "Dhund (2003 film)\n",
      "Dhoop\n",
      "Dhoondte Reh Jaaoge\n",
      "Dhoom 3\n",
      "Dhoom 2\n",
      "Dhoom\n",
      "Dhol (film)\n",
      "Dhokha\n",
      "Dhobi Ghat (film)\n",
      "Dharti Kahe Pukar Ke (2006 film)\n",
      "Dharm (film)\n",
      "Dharam Sankat Mein\n",
      "Dhanak\n",
      "Dhamaal\n",
      "Dhadak\n",
      "Devi (2016 film)\n",
      "Devdas (2002 Hindi film)\n",
      "Devaki (2005 film)\n",
      "Dev (2004 film)\n",
      "Detective Byomkesh Bakshy!\n",
      "Desi Kattey\n",
      "Desi Boyz\n",
      "Deshdrohi\n",
      "Department (film)\n",
      "Delhi-6\n",
      "Delhi Safari\n",
      "Delhi Belly (film)\n",
      "Dekh Tamasha Dekh\n",
      "Dehraadun Diary\n",
      "Deewane Huye Paagal\n",
      "Deewaar (2004 film)\n",
      "Dedh Ishqiya\n",
      "Dear Zindagi\n",
      "Dear Maya\n",
      "Dear Friend Hitler\n",
      "Dear Dad (film)\n",
      "Deadline: Sirf 24 Ghante\n",
      "De Taali\n",
      "De De Pyaar De\n",
      "De Dana Dan\n",
      "Days of Tafree\n",
      "Dasvidaniya\n",
      "Dassehra\n",
      "Darwaaza Bandh Rakho\n",
      "Darr @ the Mall\n",
      "Darna Zaroori Hai\n",
      "Darna Mana Hai\n",
      "Darling (2007 Indian film)\n",
      "Dangerous Ishhq\n",
      "Dangal (film)\n",
      "Damadamm!\n",
      "Daddy Cool (2009 Hindi film)\n",
      "Daddy (2017 film)\n",
      "Dabangg 3\n",
      "Dabangg 2\n",
      "Dabangg\n",
      "Daawat-e-Ishq\n",
      "Daas Dev\n",
      "D-Day (2013 film)\n",
      "D (film)\n",
      "Crook (film)\n",
      "Creature 3D\n",
      "Crazy Cukkad Family\n",
      "Court (film)\n",
      "Corporate (2006 film)\n",
      "Contract (2008 film)\n",
      "Company (film)\n",
      "Commando: A One Man Army\n",
      "Commando 3 (film)\n",
      "Coffee with D\n",
      "Coffee Bloom\n",
      "Cocktail (2012 film)\n",
      "Click (2010 film)\n",
      "Classic – Dance of Love\n",
      "CityLights (2014 film)\n",
      "City of Gold (2010 film)\n",
      "Cigarette Ki Tarah\n",
      "Chura Liyaa Hai Tumne\n",
      "Chup Chup Ke\n",
      "Chori Chori (2003 film)\n",
      "Chor Chor Super Chor\n",
      "Chocolate (2005 film)\n",
      "Chittagong (film)\n",
      "Chintu Ji\n",
      "Chingaari\n",
      "Chinar Daastaan-E-Ishq\n",
      "Chillar Party\n",
      "Children of War (2014 film)\n",
      "Children of Heaven\n",
      "Chicken Curry Law\n",
      "Chhota Bheem and the Throne of Bali\n",
      "Chhodon Naa Yaar\n",
      "Chetna: The Excitement\n",
      "Chennai Express\n",
      "Chehraa\n",
      "Chef (2017 film)\n",
      "Cheeni Kum\n",
      "Chatur Singh Two Star\n",
      "Chashme Baddoor (2013 film)\n",
      "Chase (2010 film)\n",
      "Chargesheet (film)\n",
      "Charas (2004 film)\n",
      "Chandni Chowk to China\n",
      "Chand Sa Roshan Chehra\n",
      "Chand Ke Paar Chalo (film)\n",
      "Chance Pe Dance\n",
      "Chamku\n",
      "Chameli (film)\n",
      "Chalte Chalte (2003 film)\n",
      "Chalo Dilli\n",
      "Challo Driver\n",
      "Chalk n Duster\n",
      "Chal Pichchur Banate Hain\n",
      "Chal Chala Chal\n",
      "Chakravyuh (2012 film)\n",
      "Chak De! India\n",
      "Chaarfutiya Chhokare\n",
      "Chaar Din Ki Chandni\n",
      "Chaalis Chauraasi\n",
      "Chaahat – Ek Nasha\n",
      "Cash (2007 film)\n",
      "Calendar Girls (2015 film)\n",
      "Calcutta Mail\n",
      "Calapor (film)\n",
      "C Kkompany\n",
      "Bypass Road (film)\n",
      "Bunty Aur Babli\n",
      "Bumper Draw\n",
      "Bumm Bumm Bole\n",
      "Bumboo\n",
      "Bullett Raja\n",
      "Bullet: Ek Dhamaka\n",
      "Buddha in a Traffic Jam\n",
      "Buddha Mar Gaya\n",
      "Bubble Gum (film)\n",
      "Brothers (2015 film)\n",
      "Brij Mohan Amar Rahe\n",
      "Breakaway (2011 film)\n",
      "Break Ke Baad\n",
      "Brahman Naman\n",
      "Boss (2013 Hindi film)\n",
      "Border (1997 film)\n",
      "Boom (film)\n",
      "Bombay to Goa (2007 film)\n",
      "Bombay to Bangkok\n",
      "Bombay Velvet\n",
      "Bombay Talkies (film)\n",
      "Bombairiya\n",
      "Bollywood Diaries\n",
      "Bol Bachchan\n",
      "Bodyguard (2011 Hindi film)\n",
      "Bobby Jasoos\n",
      "Bluffmaster!\n",
      "Blue (2009 film)\n",
      "Bloody Isshq\n",
      "Blood Money (2012 film)\n",
      "Blood Brothers (2007 Indian film)\n",
      "Blackmail (2005 film)\n",
      "Black Friday (2007 film)\n",
      "Black (2005 film)\n",
      "Bittoo Boss\n",
      "Bioscopewala\n",
      "Bin Bulaye Baraati\n",
      "Billu\n",
      "Big Brother (2007 film)\n",
      "Bhram\n",
      "Bhopal: A Prayer for Rain\n",
      "Bhoothnath Returns\n",
      "Bhoothnath\n",
      "Bhoot Unkle\n",
      "Bhoot Returns\n",
      "Bhoot (film)\n",
      "Bhoomi (film)\n",
      "Bhool Bhulaiyaa\n",
      "Bhola in Bollywood\n",
      "Bheja Fry 2\n",
      "Bheja Fry (film)\n",
      "Bhavesh Joshi Superhero\n",
      "Bhanwarey\n",
      "Bhaiaji Superhit\n",
      "Bhagmati (2005 film)\n",
      "Bhagam Bhag\n",
      "Bhaag Milkha Bhaag\n",
      "Bhaag Johnny\n",
      "Bezubaan Ishq\n",
      "Beyond the Clouds (2017 film)\n",
      "Bewakoofiyaan\n",
      "Bewafaa (2005 film)\n",
      "Being Cyrus\n",
      "Beiimaan Love\n",
      "Behen Hogi Teri\n",
      "Begum Jaan\n",
      "Befikre\n",
      "Bbuddah... Hoga Terra Baap\n",
      "Bazaar E Husn\n",
      "Batti Gul Meter Chalu\n",
      "Battalion 609\n",
      "Batla House\n",
      "Basti (film)\n",
      "Bas Ek Pal\n",
      "Barsaat (2005 film)\n",
      "Barkhaa\n",
      "Barfi!\n",
      "Bareilly Ki Barfi\n",
      "Bardaasht\n",
      "Barah Aana\n",
      "Bank Chor\n",
      "Banjo (2016 film)\n",
      "Bangistan\n",
      "Bang Bang!\n",
      "Bandook\n",
      "Band Baaja Baaraat\n",
      "Banaras (2006 film)\n",
      "Balwinder Singh Famous Ho Gaya\n",
      "Bala (2019 film)\n",
      "Bajrangi Bhaijaan\n",
      "Bajirao Mastani\n",
      "Bajatey Raho\n",
      "Baghban (2003 film)\n",
      "Badrinath Ki Dulhania\n",
      "Badmashiyaan\n",
      "Badlapur Boys\n",
      "Badlapur (film)\n",
      "Badla (2019 film)\n",
      "Badhaai Ho\n",
      "Bachna Ae Haseeno\n",
      "Bachke Rehna Re Baba\n",
      "Bachche Kachche Sachche\n",
      "Baby (2015 Hindi film)\n",
      "Babumoshai Bandookbaaz\n",
      "Babuji Ek Ticket Bambai\n",
      "Babloo Happy Hai\n",
      "Baazaar\n",
      "Baaz: A Bird in Danger\n",
      "Baat Bann Gayi\n",
      "Baar Baar Dekho\n",
      "Baaghi 2\n",
      "Baaghi (2016 film)\n",
      "Baabul (2006 film)\n",
      "Baabarr\n",
      "B.A. Pass\n",
      "Azhar (film)\n",
      "Awarapan\n",
      "Awara Paagal Deewana\n",
      "Aval (2017 film)\n",
      "Aurangzeb (film)\n",
      "Aur Pappu Paas Ho Gaya\n",
      "Ata Pata Laapata\n",
      "Asambhav\n",
      "Aryan: Unbreakable\n",
      "Article 15 (film)\n",
      "Armaan (2003 film)\n",
      "Arjun: The Warrior Prince\n",
      "Arjun Patiala\n",
      "Apne\n",
      "Apna Sapna Money Money\n",
      "Apna Asmaan\n",
      "Apartment (film)\n",
      "Apaharan\n",
      "Anwar (2007 film)\n",
      "Anuradha (2014 film)\n",
      "Anthony Kaun Hai?\n",
      "Antardwand\n",
      "Anna (2016 film)\n",
      "Ankur Arora Murder Case\n",
      "Ankhon Dekhi\n",
      "Ankahee (2006 film)\n",
      "Anjaane (2005 film)\n",
      "Anjaana Anjaani\n",
      "Angel (2011 film)\n",
      "Andhadhun\n",
      "Andaaz\n",
      "Andaaz\n",
      "Anamika (2008 film)\n",
      "Anaarkali of Aarah\n",
      "Amit Sahni Ki List\n",
      "Amavas\n",
      "Always Kabhi Kabhi\n",
      "Aloo Chaat (film)\n",
      "Alone (2015 Hindi film)\n",
      "Allah Ke Banday\n",
      "All the Best: Fun Begins\n",
      "All Is Well (2015 film)\n",
      "Aligarh (film)\n",
      "Albert Pinto Ko Gussa Kyun Aata Hai?\n",
      "Alag\n",
      "Aladin (film)\n",
      "Aksar 2\n",
      "Aksar\n",
      "Akaash Vani\n",
      "Ajji\n",
      "Ajab Prem Ki Ghazab Kahani\n",
      "Ajab Gazabb Love\n",
      "Aiyyaa\n",
      "Aiyaary\n",
      "Aitraaz\n",
      "Aisa Yeh Jahaan\n",
      "Aisa Kyon Hota Hai?\n",
      "Airlift (film)\n",
      "Ahista Ahista (2006 film)\n",
      "Agnipankh\n",
      "Agneepath (2012 film)\n",
      "Aggar (film)\n",
      "Agent Vinod (2012 film)\n",
      "Aetbaar\n",
      "Ae Dil Hai Mushkil\n",
      "Adharm (2006 film)\n",
      "Action Replayy\n",
      "Action Jackson (2014 film)\n",
      "Acid Factory\n",
      "Accident on Hill Road\n",
      "Ab Tumhare Hawale Watan Saathiyo\n",
      "Ab Tak Chhappan 2\n",
      "Aazaan\n",
      "Aasma: The Sky Is the Limit\n",
      "Aashiqui.in\n",
      "Aashiqui 2\n",
      "Aashiq Banaya Aapne\n",
      "Aashayein\n",
      "Aarakshan\n",
      "Aapko Pehle Bhi Kahin Dekha Hai\n",
      "Aap Ki Khatir (2006 film)\n",
      "Aap Kaa Surroor\n",
      "Aankhen (2002 film)\n",
      "Aanch\n",
      "Aan: Men at Work\n",
      "Aalaap (film)\n",
      "Aakrosh (2010 film)\n",
      "Aakhari Decision\n",
      "Aaja Nachle\n",
      "Aaj Ka Andha Kanoon\n",
      "Aagey Se Right\n",
      "Aag (2007 film)\n",
      "Aabra Ka Daabra\n",
      "Aa Gaya Hero\n",
      "Aa Dekhen Zara\n",
      "ABCD 2\n",
      "A Gentleman\n",
      "A Flying Jatt\n",
      "A Flat (film)\n",
      "A Decent Arrangement\n",
      "?: A Question Mark\n",
      "99.9 FM (film)\n",
      "99 (2009 film)\n",
      "88 Antop Hill\n",
      "7½ Phere\n",
      "7 Khoon Maaf\n",
      "7 Hours to Go\n",
      "68 Pages\n",
      "5 Weddings\n",
      "404 (film)\n",
      "3G (film)\n",
      "36 China Town\n",
      "31st October (film)\n",
      "3 Storeys\n",
      "3 Idiots\n",
      "3 Deewarein\n",
      "3 A.M. (2014 film)\n",
      "22 Yards\n",
      "2 States (2014 film)\n",
      "1971 (2007 film)\n",
      "1920: The Evil Returns\n",
      "1920: London\n",
      "1920 (film)\n"
     ]
    }
   ],
   "source": [
    "for i in movie.index:\n",
    "    print(i)"
   ]
  },
  {
   "cell_type": "code",
   "execution_count": null,
   "metadata": {},
   "outputs": [
    {
     "data": {
      "text/plain": [
       "maths      33\n",
       "english     0\n",
       "science    11\n",
       "hindi       0\n",
       "stv        10\n",
       "Name: Awais marks, dtype: int64"
      ]
     },
     "execution_count": 140,
     "metadata": {},
     "output_type": "execute_result"
    }
   ],
   "source": [
    "# Airthmetic operators  (broadcasting concept )\n",
    "\n",
    "100 - marks_series"
   ]
  },
  {
   "cell_type": "code",
   "execution_count": 141,
   "metadata": {},
   "outputs": [
    {
     "data": {
      "text/plain": [
       "maths      167\n",
       "english    200\n",
       "science    189\n",
       "hindi      200\n",
       "stv        190\n",
       "Name: Awais marks, dtype: int64"
      ]
     },
     "execution_count": 141,
     "metadata": {},
     "output_type": "execute_result"
    }
   ],
   "source": [
    "100 + marks_series"
   ]
  },
  {
   "cell_type": "code",
   "execution_count": 142,
   "metadata": {},
   "outputs": [
    {
     "data": {
      "text/plain": [
       "maths       6700\n",
       "english    10000\n",
       "science     8900\n",
       "hindi      10000\n",
       "stv         9000\n",
       "Name: Awais marks, dtype: int64"
      ]
     },
     "execution_count": 142,
     "metadata": {},
     "output_type": "execute_result"
    }
   ],
   "source": [
    "100 * marks_series"
   ]
  },
  {
   "cell_type": "code",
   "execution_count": 144,
   "metadata": {},
   "outputs": [
    {
     "data": {
      "text/plain": [
       "match_no\n",
       "1      False\n",
       "2      False\n",
       "3      False\n",
       "4      False\n",
       "5      False\n",
       "       ...  \n",
       "211    False\n",
       "212    False\n",
       "213     True\n",
       "214    False\n",
       "215    False\n",
       "Name: runs, Length: 215, dtype: bool"
      ]
     },
     "execution_count": 144,
     "metadata": {},
     "output_type": "execute_result"
    }
   ],
   "source": [
    "# Relational operators \n",
    "\n",
    "df >= 50"
   ]
  },
  {
   "cell_type": "code",
   "execution_count": 145,
   "metadata": {},
   "outputs": [
    {
     "data": {
      "text/plain": [
       "match_no\n",
       "1      False\n",
       "2      False\n",
       "3      False\n",
       "4      False\n",
       "5      False\n",
       "       ...  \n",
       "211    False\n",
       "212    False\n",
       "213    False\n",
       "214    False\n",
       "215    False\n",
       "Name: runs, Length: 215, dtype: bool"
      ]
     },
     "execution_count": 145,
     "metadata": {},
     "output_type": "execute_result"
    }
   ],
   "source": [
    "df >= 100"
   ]
  },
  {
   "cell_type": "code",
   "execution_count": 146,
   "metadata": {},
   "outputs": [
    {
     "data": {
      "text/plain": [
       "match_no\n",
       "1      True\n",
       "2      True\n",
       "3      True\n",
       "4      True\n",
       "5      True\n",
       "       ... \n",
       "211    True\n",
       "212    True\n",
       "213    True\n",
       "214    True\n",
       "215    True\n",
       "Name: runs, Length: 215, dtype: bool"
      ]
     },
     "execution_count": 146,
     "metadata": {},
     "output_type": "execute_result"
    }
   ],
   "source": [
    "df >= 0"
   ]
  },
  {
   "cell_type": "markdown",
   "metadata": {},
   "source": [
    "# Boolean Indexing Series "
   ]
  },
  {
   "cell_type": "code",
   "execution_count": 149,
   "metadata": {},
   "outputs": [
    {
     "data": {
      "text/plain": [
       "match_no\n",
       "15      50\n",
       "34      58\n",
       "41      71\n",
       "44      56\n",
       "45      67\n",
       "52      70\n",
       "57      57\n",
       "68      73\n",
       "71      51\n",
       "73      58\n",
       "74      65\n",
       "80      57\n",
       "81      93\n",
       "82      99\n",
       "85      56\n",
       "97      67\n",
       "99      73\n",
       "103     51\n",
       "104     62\n",
       "110     82\n",
       "116     75\n",
       "117     79\n",
       "119     80\n",
       "120    100\n",
       "122     52\n",
       "123    108\n",
       "126    109\n",
       "127     75\n",
       "128    113\n",
       "129     54\n",
       "131     54\n",
       "132     62\n",
       "134     64\n",
       "137     55\n",
       "141     58\n",
       "144     57\n",
       "145     92\n",
       "148     68\n",
       "152     70\n",
       "160     84\n",
       "162     67\n",
       "164    100\n",
       "175     72\n",
       "178     90\n",
       "182     50\n",
       "188     72\n",
       "197     51\n",
       "198     53\n",
       "209     58\n",
       "213     73\n",
       "Name: runs, dtype: int64"
      ]
     },
     "execution_count": 149,
     "metadata": {},
     "output_type": "execute_result"
    }
   ],
   "source": [
    "# find no of 50 and 100 score \n",
    "\n",
    "df[df >= 50]"
   ]
  },
  {
   "cell_type": "code",
   "execution_count": 150,
   "metadata": {},
   "outputs": [
    {
     "data": {
      "text/plain": [
       "50"
      ]
     },
     "execution_count": 150,
     "metadata": {},
     "output_type": "execute_result"
    }
   ],
   "source": [
    "df[df >= 50].size"
   ]
  },
  {
   "cell_type": "code",
   "execution_count": 151,
   "metadata": {},
   "outputs": [
    {
     "data": {
      "text/plain": [
       "match_no\n",
       "2      0\n",
       "3      0\n",
       "4      0\n",
       "8      0\n",
       "87     0\n",
       "91     0\n",
       "93     0\n",
       "130    0\n",
       "135    0\n",
       "206    0\n",
       "207    0\n",
       "211    0\n",
       "Name: runs, dtype: int64"
      ]
     },
     "execution_count": 151,
     "metadata": {},
     "output_type": "execute_result"
    }
   ],
   "source": [
    "# find no of zero \n",
    "\n",
    "df[df == 0]"
   ]
  },
  {
   "cell_type": "code",
   "execution_count": 152,
   "metadata": {},
   "outputs": [
    {
     "data": {
      "text/plain": [
       "12"
      ]
     },
     "execution_count": 152,
     "metadata": {},
     "output_type": "execute_result"
    }
   ],
   "source": [
    "df[df == 0].size"
   ]
  },
  {
   "cell_type": "code",
   "execution_count": 153,
   "metadata": {},
   "outputs": [
    {
     "data": {
      "text/plain": [
       "165    225\n",
       "166    249\n",
       "167    265\n",
       "168    306\n",
       "169    261\n",
       "170    222\n",
       "225    224\n",
       "226    254\n",
       "227    214\n",
       "228    236\n",
       "229    261\n",
       "230    247\n",
       "231    207\n",
       "232    254\n",
       "233    301\n",
       "234    233\n",
       "240    202\n",
       "246    259\n",
       "248    213\n",
       "249    210\n",
       "252    216\n",
       "275    228\n",
       "276    237\n",
       "277    276\n",
       "279    290\n",
       "280    295\n",
       "281    245\n",
       "282    241\n",
       "283    267\n",
       "284    269\n",
       "285    211\n",
       "287    206\n",
       "288    202\n",
       "290    236\n",
       "291    222\n",
       "292    203\n",
       "312    230\n",
       "318    244\n",
       "324    243\n",
       "325    227\n",
       "326    259\n",
       "330    396\n",
       "331    312\n",
       "332    268\n",
       "333    229\n",
       "337    221\n",
       "338    225\n",
       "339    221\n",
       "340    202\n",
       "344    276\n",
       "345    258\n",
       "346    219\n",
       "347    212\n",
       "351    220\n",
       "354    204\n",
       "358    210\n",
       "359    209\n",
       "360    231\n",
       "361    226\n",
       "Name: Subscribers gained, dtype: int64"
      ]
     },
     "execution_count": 153,
     "metadata": {},
     "output_type": "execute_result"
    }
   ],
   "source": [
    "# count no day when 1 had more than 200 subs a day\n",
    "\n",
    "subs[subs > 200]"
   ]
  },
  {
   "cell_type": "code",
   "execution_count": 154,
   "metadata": {},
   "outputs": [
    {
     "data": {
      "text/plain": [
       "59"
      ]
     },
     "execution_count": 154,
     "metadata": {},
     "output_type": "execute_result"
    }
   ],
   "source": [
    "subs[subs > 200].size"
   ]
  },
  {
   "cell_type": "code",
   "execution_count": 159,
   "metadata": {},
   "outputs": [
    {
     "data": {
      "text/plain": [
       "lead\n",
       "Akshay Kumar        48\n",
       "Amitabh Bachchan    45\n",
       "Ajay Devgn          38\n",
       "Salman Khan         31\n",
       "Sanjay Dutt         26\n",
       "Shah Rukh Khan      22\n",
       "Emraan Hashmi       21\n",
       "Name: count, dtype: int64"
      ]
     },
     "execution_count": 159,
     "metadata": {},
     "output_type": "execute_result"
    }
   ],
   "source": [
    "# find actors who have more than 20 movies \n",
    "\n",
    "num_movie = movie.value_counts() \n",
    "num_movie[num_movie > 20]"
   ]
  },
  {
   "cell_type": "markdown",
   "metadata": {},
   "source": [
    "# Plotting Graphs on Series "
   ]
  },
  {
   "cell_type": "code",
   "execution_count": 185,
   "metadata": {},
   "outputs": [
    {
     "data": {
      "text/plain": [
       "<Axes: ylabel='count'>"
      ]
     },
     "execution_count": 185,
     "metadata": {},
     "output_type": "execute_result"
    },
    {
     "data": {
      "image/png": "[encoded data removed]",
      "text/plain": [
       "<Figure size 640x480 with 1 Axes>"
      ]
     },
     "metadata": {},
     "output_type": "display_data"
    }
   ],
   "source": [
    "movie.value_counts().head(20).plot(kind='pie')"
   ]
  },
  {
   "cell_type": "code",
   "execution_count": 160,
   "metadata": {},
   "outputs": [
    {
     "data": {
      "text/plain": [
       "<Axes: >"
      ]
     },
     "execution_count": 160,
     "metadata": {},
     "output_type": "execute_result"
    },
    {
     "data": {
      "image/png": "[encoded data removed]",
      "text/plain": [
       "<Figure size 640x480 with 1 Axes>"
      ]
     },
     "metadata": {},
     "output_type": "display_data"
    }
   ],
   "source": [
    "subs.plot()"
   ]
  },
  {
   "cell_type": "code",
   "execution_count": 163,
   "metadata": {},
   "outputs": [
    {
     "data": {
      "text/plain": [
       "<Axes: xlabel='lead'>"
      ]
     },
     "execution_count": 163,
     "metadata": {},
     "output_type": "execute_result"
    },
    {
     "data": {
      "image/png": "[encoded data removed]",
      "text/plain": [
       "<Figure size 640x480 with 1 Axes>"
      ]
     },
     "metadata": {},
     "output_type": "display_data"
    }
   ],
   "source": [
    "movie.value_counts().head(20).plot(kind='bar')"
   ]
  },
  {
   "cell_type": "code",
   "execution_count": 186,
   "metadata": {},
   "outputs": [
    {
     "data": {
      "text/plain": [
       "<Axes: xlabel='match_no'>"
      ]
     },
     "execution_count": 186,
     "metadata": {},
     "output_type": "execute_result"
    },
    {
     "data": {
      "image/png": "[encoded data removed]",
      "text/plain": [
       "<Figure size 640x480 with 1 Axes>"
      ]
     },
     "metadata": {},
     "output_type": "display_data"
    }
   ],
   "source": [
    "df.plot(kind='bar')        \n"
   ]
  },
  {
   "cell_type": "code",
   "execution_count": null,
   "metadata": {},
   "outputs": [
    {
     "data": {
      "text/plain": [
       "<Axes: ylabel='match_no'>"
      ]
     },
     "execution_count": 177,
     "metadata": {},
     "output_type": "execute_result"
    },
    {
     "data": {
      "image/png": "[encoded data removed]",
      "text/plain": [
       "<Figure size 640x480 with 1 Axes>"
      ]
     },
     "metadata": {},
     "output_type": "display_data"
    }
   ],
   "source": [
    "df.plot(kind='barh')        \n"
   ]
  },
  {
   "cell_type": "code",
   "execution_count": null,
   "metadata": {},
   "outputs": [
    {
     "data": {
      "text/plain": [
       "<Axes: ylabel='Frequency'>"
      ]
     },
     "execution_count": 178,
     "metadata": {},
     "output_type": "execute_result"
    },
    {
     "data": {
      "image/png": "[encoded data removed]",
      "text/plain": [
       "<Figure size 640x480 with 1 Axes>"
      ]
     },
     "metadata": {},
     "output_type": "display_data"
    }
   ],
   "source": [
    "df.plot(kind='hist')        \n"
   ]
  },
  {
   "cell_type": "code",
   "execution_count": 187,
   "metadata": {},
   "outputs": [
    {
     "data": {
      "text/plain": [
       "<Axes: >"
      ]
     },
     "execution_count": 187,
     "metadata": {},
     "output_type": "execute_result"
    },
    {
     "data": {
      "image/png": "[encoded data removed]",
      "text/plain": [
       "<Figure size 640x480 with 1 Axes>"
      ]
     },
     "metadata": {},
     "output_type": "display_data"
    }
   ],
   "source": [
    "df.plot(kind='box')         "
   ]
  },
  {
   "cell_type": "code",
   "execution_count": null,
   "metadata": {},
   "outputs": [
    {
     "data": {
      "text/plain": [
       "<Axes: xlabel='match_no'>"
      ]
     },
     "execution_count": 181,
     "metadata": {},
     "output_type": "execute_result"
    },
    {
     "data": {
      "image/png": "[encoded data removed]",
      "text/plain": [
       "<Figure size 640x480 with 1 Axes>"
      ]
     },
     "metadata": {},
     "output_type": "display_data"
    }
   ],
   "source": [
    "df.plot(kind='area')        \n"
   ]
  },
  {
   "cell_type": "code",
   "execution_count": 168,
   "metadata": {},
   "outputs": [
    {
     "data": {
      "text/plain": [
       "<Axes: ylabel='Frequency'>"
      ]
     },
     "execution_count": 168,
     "metadata": {},
     "output_type": "execute_result"
    },
    {
     "data": {
      "image/png": "[encoded data removed]",
      "text/plain": [
       "<Figure size 640x480 with 1 Axes>"
      ]
     },
     "metadata": {},
     "output_type": "display_data"
    }
   ],
   "source": [
    "df.plot.hist(bins=100)"
   ]
  },
  {
   "cell_type": "code",
   "execution_count": 169,
   "metadata": {},
   "outputs": [
    {
     "data": {
      "text/plain": [
       "<Axes: ylabel='Frequency'>"
      ]
     },
     "execution_count": 169,
     "metadata": {},
     "output_type": "execute_result"
    },
    {
     "data": {
      "image/png": "[encoded data removed]",
      "text/plain": [
       "<Figure size 640x480 with 1 Axes>"
      ]
     },
     "metadata": {},
     "output_type": "display_data"
    }
   ],
   "source": [
    "df.plot.hist(bins=10)"
   ]
  }
 ],
 "metadata": {
  "kernelspec": {
   "display_name": "Python 3",
   "language": "python",
   "name": "python3"
  },
  "language_info": {
   "codemirror_mode": {
    "name": "ipython",
    "version": 3
   },
   "file_extension": ".py",
   "mimetype": "text/x-python",
   "name": "python",
   "nbconvert_exporter": "python",
   "pygments_lexer": "ipython3",
   "version": "3.12.2"
  }
 },
 "nbformat": 4,
 "nbformat_minor": 2
}
